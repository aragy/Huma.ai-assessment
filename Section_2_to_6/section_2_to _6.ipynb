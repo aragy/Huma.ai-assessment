{
 "cells": [
  {
   "cell_type": "code",
   "execution_count": 26,
   "metadata": {},
   "outputs": [
    {
     "name": "stdout",
     "output_type": "stream",
     "text": [
      "Defaulting to user installation because normal site-packages is not writeable\n",
      "Requirement already satisfied: pandas in /home/aragy/.local/lib/python3.10/site-packages (2.2.3)\n",
      "Requirement already satisfied: pydantic in /home/aragy/.local/lib/python3.10/site-packages (2.9.2)\n",
      "Requirement already satisfied: langchain in /home/aragy/.local/lib/python3.10/site-packages (0.3.0)\n",
      "Requirement already satisfied: langchain_community in /home/aragy/.local/lib/python3.10/site-packages (0.3.0)\n",
      "Requirement already satisfied: langchain_openai in /home/aragy/.local/lib/python3.10/site-packages (0.2.0)\n",
      "Requirement already satisfied: langchain_anthropic in /home/aragy/.local/lib/python3.10/site-packages (0.2.1)\n",
      "Requirement already satisfied: langchain_google_genai in /home/aragy/.local/lib/python3.10/site-packages (2.0.0)\n",
      "Requirement already satisfied: deepeval in /home/aragy/.local/lib/python3.10/site-packages (1.2.9)\n",
      "Requirement already satisfied: rank_bm25 in /home/aragy/.local/lib/python3.10/site-packages (0.2.2)\n",
      "Requirement already satisfied: faiss-cpu in /home/aragy/.local/lib/python3.10/site-packages (1.8.0.post1)\n",
      "Collecting duckduckgo-search\n",
      "  Downloading duckduckgo_search-6.2.12-py3-none-any.whl (27 kB)\n",
      "Requirement already satisfied: numpy>=1.22.4 in /home/aragy/.local/lib/python3.10/site-packages (from pandas) (1.26.4)\n",
      "Requirement already satisfied: python-dateutil>=2.8.2 in /home/aragy/.local/lib/python3.10/site-packages (from pandas) (2.9.0.post0)\n",
      "Requirement already satisfied: pytz>=2020.1 in /home/aragy/.local/lib/python3.10/site-packages (from pandas) (2024.2)\n",
      "Requirement already satisfied: tzdata>=2022.7 in /home/aragy/.local/lib/python3.10/site-packages (from pandas) (2024.1)\n",
      "Requirement already satisfied: pydantic-core==2.23.4 in /home/aragy/.local/lib/python3.10/site-packages (from pydantic) (2.23.4)\n",
      "Requirement already satisfied: typing-extensions>=4.6.1 in /home/aragy/.local/lib/python3.10/site-packages (from pydantic) (4.12.2)\n",
      "Requirement already satisfied: annotated-types>=0.6.0 in /home/aragy/.local/lib/python3.10/site-packages (from pydantic) (0.7.0)\n",
      "Requirement already satisfied: async-timeout<5.0.0,>=4.0.0 in /home/aragy/.local/lib/python3.10/site-packages (from langchain) (4.0.3)\n",
      "Requirement already satisfied: langchain-core<0.4.0,>=0.3.0 in /home/aragy/.local/lib/python3.10/site-packages (from langchain) (0.3.5)\n",
      "Requirement already satisfied: tenacity!=8.4.0,<9.0.0,>=8.1.0 in /home/aragy/.local/lib/python3.10/site-packages (from langchain) (8.4.2)\n",
      "Requirement already satisfied: PyYAML>=5.3 in /usr/lib/python3/dist-packages (from langchain) (5.4.1)\n",
      "Requirement already satisfied: SQLAlchemy<3,>=1.4 in /home/aragy/.local/lib/python3.10/site-packages (from langchain) (2.0.35)\n",
      "Requirement already satisfied: requests<3,>=2 in /home/aragy/.local/lib/python3.10/site-packages (from langchain) (2.32.3)\n",
      "Requirement already satisfied: aiohttp<4.0.0,>=3.8.3 in /home/aragy/.local/lib/python3.10/site-packages (from langchain) (3.10.5)\n",
      "Requirement already satisfied: langchain-text-splitters<0.4.0,>=0.3.0 in /home/aragy/.local/lib/python3.10/site-packages (from langchain) (0.3.0)\n",
      "Requirement already satisfied: langsmith<0.2.0,>=0.1.17 in /home/aragy/.local/lib/python3.10/site-packages (from langchain) (0.1.125)\n",
      "Requirement already satisfied: dataclasses-json<0.7,>=0.5.7 in /home/aragy/.local/lib/python3.10/site-packages (from langchain_community) (0.6.7)\n",
      "Requirement already satisfied: pydantic-settings<3.0.0,>=2.4.0 in /home/aragy/.local/lib/python3.10/site-packages (from langchain_community) (2.5.2)\n",
      "Requirement already satisfied: openai<2.0.0,>=1.40.0 in /home/aragy/.local/lib/python3.10/site-packages (from langchain_openai) (1.47.1)\n",
      "Requirement already satisfied: tiktoken<1,>=0.7 in /home/aragy/.local/lib/python3.10/site-packages (from langchain_openai) (0.7.0)\n",
      "Requirement already satisfied: anthropic<1,>=0.30.0 in /home/aragy/.local/lib/python3.10/site-packages (from langchain_anthropic) (0.34.2)\n",
      "Requirement already satisfied: defusedxml<0.8.0,>=0.7.1 in /home/aragy/.local/lib/python3.10/site-packages (from langchain_anthropic) (0.7.1)\n",
      "Requirement already satisfied: google-generativeai<0.8.0,>=0.7.0 in /home/aragy/.local/lib/python3.10/site-packages (from langchain_google_genai) (0.7.2)\n",
      "Requirement already satisfied: opentelemetry-api~=1.24.0 in /home/aragy/.local/lib/python3.10/site-packages (from deepeval) (1.24.0)\n",
      "Requirement already satisfied: typer in /home/aragy/.local/lib/python3.10/site-packages (from deepeval) (0.12.5)\n",
      "Requirement already satisfied: opentelemetry-sdk~=1.24.0 in /home/aragy/.local/lib/python3.10/site-packages (from deepeval) (1.24.0)\n",
      "Requirement already satisfied: tabulate in /home/aragy/.local/lib/python3.10/site-packages (from deepeval) (0.9.0)\n",
      "Requirement already satisfied: importlib-metadata>=6.0.2 in /home/aragy/.local/lib/python3.10/site-packages (from deepeval) (7.0.0)\n",
      "Requirement already satisfied: opentelemetry-exporter-otlp-proto-grpc~=1.24.0 in /home/aragy/.local/lib/python3.10/site-packages (from deepeval) (1.24.0)\n",
      "Requirement already satisfied: docx2txt~=0.8 in /home/aragy/.local/lib/python3.10/site-packages (from deepeval) (0.8)\n",
      "Requirement already satisfied: sentry-sdk in /home/aragy/.local/lib/python3.10/site-packages (from deepeval) (2.14.0)\n",
      "Requirement already satisfied: pytest in /home/aragy/.local/lib/python3.10/site-packages (from deepeval) (8.3.3)\n",
      "Requirement already satisfied: ragas in /home/aragy/.local/lib/python3.10/site-packages (from deepeval) (0.1.19)\n",
      "Requirement already satisfied: pytest-xdist in /home/aragy/.local/lib/python3.10/site-packages (from deepeval) (3.6.1)\n",
      "Requirement already satisfied: protobuf in /home/aragy/.local/lib/python3.10/site-packages (from deepeval) (4.25.5)\n",
      "Requirement already satisfied: tqdm in /home/aragy/.local/lib/python3.10/site-packages (from deepeval) (4.66.5)\n",
      "Requirement already satisfied: portalocker in /home/aragy/.local/lib/python3.10/site-packages (from deepeval) (2.10.1)\n",
      "Requirement already satisfied: grpcio~=1.63.0 in /home/aragy/.local/lib/python3.10/site-packages (from deepeval) (1.63.2)\n",
      "Requirement already satisfied: pytest-repeat in /home/aragy/.local/lib/python3.10/site-packages (from deepeval) (0.9.3)\n",
      "Requirement already satisfied: rich in /home/aragy/.local/lib/python3.10/site-packages (from deepeval) (13.8.1)\n",
      "Requirement already satisfied: packaging in /home/aragy/.local/lib/python3.10/site-packages (from faiss-cpu) (24.1)\n",
      "Requirement already satisfied: click>=8.1.7 in /home/aragy/.local/lib/python3.10/site-packages (from duckduckgo-search) (8.1.7)\n",
      "Collecting primp>=0.6.2\n",
      "  Downloading primp-0.6.2-cp38-abi3-manylinux_2_17_x86_64.manylinux2014_x86_64.whl (2.8 MB)\n",
      "\u001b[2K     \u001b[90m━━━━━━━━━━━━━━━━━━━━━━━━━━━━━━━━━━━━━━━━\u001b[0m \u001b[32m2.8/2.8 MB\u001b[0m \u001b[31m10.4 MB/s\u001b[0m eta \u001b[36m0:00:00\u001b[0m \u001b[36m0:00:01\u001b[0m\n",
      "\u001b[?25hRequirement already satisfied: aiohappyeyeballs>=2.3.0 in /home/aragy/.local/lib/python3.10/site-packages (from aiohttp<4.0.0,>=3.8.3->langchain) (2.4.0)\n",
      "Requirement already satisfied: aiosignal>=1.1.2 in /home/aragy/.local/lib/python3.10/site-packages (from aiohttp<4.0.0,>=3.8.3->langchain) (1.3.1)\n",
      "Requirement already satisfied: frozenlist>=1.1.1 in /home/aragy/.local/lib/python3.10/site-packages (from aiohttp<4.0.0,>=3.8.3->langchain) (1.4.1)\n",
      "Requirement already satisfied: attrs>=17.3.0 in /usr/lib/python3/dist-packages (from aiohttp<4.0.0,>=3.8.3->langchain) (21.2.0)\n",
      "Requirement already satisfied: yarl<2.0,>=1.0 in /home/aragy/.local/lib/python3.10/site-packages (from aiohttp<4.0.0,>=3.8.3->langchain) (1.11.1)\n",
      "Requirement already satisfied: multidict<7.0,>=4.5 in /home/aragy/.local/lib/python3.10/site-packages (from aiohttp<4.0.0,>=3.8.3->langchain) (6.1.0)\n",
      "Requirement already satisfied: httpx<1,>=0.23.0 in /home/aragy/.local/lib/python3.10/site-packages (from anthropic<1,>=0.30.0->langchain_anthropic) (0.27.2)\n",
      "Requirement already satisfied: sniffio in /home/aragy/.local/lib/python3.10/site-packages (from anthropic<1,>=0.30.0->langchain_anthropic) (1.3.1)\n",
      "Requirement already satisfied: distro<2,>=1.7.0 in /usr/lib/python3/dist-packages (from anthropic<1,>=0.30.0->langchain_anthropic) (1.7.0)\n",
      "Requirement already satisfied: jiter<1,>=0.4.0 in /home/aragy/.local/lib/python3.10/site-packages (from anthropic<1,>=0.30.0->langchain_anthropic) (0.5.0)\n",
      "Requirement already satisfied: tokenizers>=0.13.0 in /home/aragy/.local/lib/python3.10/site-packages (from anthropic<1,>=0.30.0->langchain_anthropic) (0.20.0)\n",
      "Requirement already satisfied: anyio<5,>=3.5.0 in /home/aragy/.local/lib/python3.10/site-packages (from anthropic<1,>=0.30.0->langchain_anthropic) (4.6.0)\n",
      "Requirement already satisfied: typing-inspect<1,>=0.4.0 in /home/aragy/.local/lib/python3.10/site-packages (from dataclasses-json<0.7,>=0.5.7->langchain_community) (0.9.0)\n",
      "Requirement already satisfied: marshmallow<4.0.0,>=3.18.0 in /home/aragy/.local/lib/python3.10/site-packages (from dataclasses-json<0.7,>=0.5.7->langchain_community) (3.22.0)\n",
      "Requirement already satisfied: google-auth>=2.15.0 in /home/aragy/.local/lib/python3.10/site-packages (from google-generativeai<0.8.0,>=0.7.0->langchain_google_genai) (2.35.0)\n",
      "Requirement already satisfied: google-api-python-client in /home/aragy/.local/lib/python3.10/site-packages (from google-generativeai<0.8.0,>=0.7.0->langchain_google_genai) (2.146.0)\n",
      "Requirement already satisfied: google-ai-generativelanguage==0.6.6 in /home/aragy/.local/lib/python3.10/site-packages (from google-generativeai<0.8.0,>=0.7.0->langchain_google_genai) (0.6.6)\n",
      "Requirement already satisfied: google-api-core in /home/aragy/.local/lib/python3.10/site-packages (from google-generativeai<0.8.0,>=0.7.0->langchain_google_genai) (2.20.0)\n",
      "Requirement already satisfied: proto-plus<2.0.0dev,>=1.22.3 in /home/aragy/.local/lib/python3.10/site-packages (from google-ai-generativelanguage==0.6.6->google-generativeai<0.8.0,>=0.7.0->langchain_google_genai) (1.24.0)\n",
      "Requirement already satisfied: zipp>=0.5 in /home/aragy/.local/lib/python3.10/site-packages (from importlib-metadata>=6.0.2->deepeval) (3.20.2)\n",
      "Requirement already satisfied: jsonpatch<2.0,>=1.33 in /home/aragy/.local/lib/python3.10/site-packages (from langchain-core<0.4.0,>=0.3.0->langchain) (1.33)\n",
      "Requirement already satisfied: orjson<4.0.0,>=3.9.14 in /home/aragy/.local/lib/python3.10/site-packages (from langsmith<0.2.0,>=0.1.17->langchain) (3.10.7)\n",
      "Requirement already satisfied: deprecated>=1.2.6 in /home/aragy/.local/lib/python3.10/site-packages (from opentelemetry-api~=1.24.0->deepeval) (1.2.14)\n",
      "Requirement already satisfied: googleapis-common-protos~=1.52 in /home/aragy/.local/lib/python3.10/site-packages (from opentelemetry-exporter-otlp-proto-grpc~=1.24.0->deepeval) (1.65.0)\n",
      "Requirement already satisfied: opentelemetry-proto==1.24.0 in /home/aragy/.local/lib/python3.10/site-packages (from opentelemetry-exporter-otlp-proto-grpc~=1.24.0->deepeval) (1.24.0)\n",
      "Requirement already satisfied: opentelemetry-exporter-otlp-proto-common==1.24.0 in /home/aragy/.local/lib/python3.10/site-packages (from opentelemetry-exporter-otlp-proto-grpc~=1.24.0->deepeval) (1.24.0)\n",
      "Requirement already satisfied: opentelemetry-semantic-conventions==0.45b0 in /home/aragy/.local/lib/python3.10/site-packages (from opentelemetry-sdk~=1.24.0->deepeval) (0.45b0)\n",
      "Requirement already satisfied: python-dotenv>=0.21.0 in /home/aragy/.local/lib/python3.10/site-packages (from pydantic-settings<3.0.0,>=2.4.0->langchain_community) (1.0.1)\n",
      "Requirement already satisfied: six>=1.5 in /usr/lib/python3/dist-packages (from python-dateutil>=2.8.2->pandas) (1.16.0)\n",
      "Requirement already satisfied: idna<4,>=2.5 in /usr/lib/python3/dist-packages (from requests<3,>=2->langchain) (3.3)\n",
      "Requirement already satisfied: certifi>=2017.4.17 in /usr/lib/python3/dist-packages (from requests<3,>=2->langchain) (2020.6.20)\n",
      "Requirement already satisfied: charset-normalizer<4,>=2 in /home/aragy/.local/lib/python3.10/site-packages (from requests<3,>=2->langchain) (3.3.2)\n",
      "Requirement already satisfied: urllib3<3,>=1.21.1 in /home/aragy/.local/lib/python3.10/site-packages (from requests<3,>=2->langchain) (2.2.3)\n",
      "Requirement already satisfied: greenlet!=0.4.17 in /home/aragy/.local/lib/python3.10/site-packages (from SQLAlchemy<3,>=1.4->langchain) (3.1.1)\n",
      "Requirement already satisfied: regex>=2022.1.18 in /home/aragy/.local/lib/python3.10/site-packages (from tiktoken<1,>=0.7->langchain_openai) (2024.9.11)\n",
      "Requirement already satisfied: iniconfig in /home/aragy/.local/lib/python3.10/site-packages (from pytest->deepeval) (2.0.0)\n",
      "Requirement already satisfied: tomli>=1 in /home/aragy/.local/lib/python3.10/site-packages (from pytest->deepeval) (2.0.1)\n",
      "Requirement already satisfied: pluggy<2,>=1.5 in /home/aragy/.local/lib/python3.10/site-packages (from pytest->deepeval) (1.5.0)\n",
      "Requirement already satisfied: exceptiongroup>=1.0.0rc8 in /home/aragy/.local/lib/python3.10/site-packages (from pytest->deepeval) (1.2.2)\n",
      "Requirement already satisfied: execnet>=2.1 in /home/aragy/.local/lib/python3.10/site-packages (from pytest-xdist->deepeval) (2.1.1)\n",
      "Requirement already satisfied: appdirs in /home/aragy/.local/lib/python3.10/site-packages (from ragas->deepeval) (1.4.4)\n",
      "Requirement already satisfied: nest-asyncio in /home/aragy/.local/lib/python3.10/site-packages (from ragas->deepeval) (1.6.0)\n",
      "Requirement already satisfied: datasets in /home/aragy/.local/lib/python3.10/site-packages (from ragas->deepeval) (3.0.0)\n",
      "Requirement already satisfied: pysbd>=0.3.4 in /home/aragy/.local/lib/python3.10/site-packages (from ragas->deepeval) (0.3.4)\n",
      "Requirement already satisfied: markdown-it-py>=2.2.0 in /home/aragy/.local/lib/python3.10/site-packages (from rich->deepeval) (3.0.0)\n",
      "Requirement already satisfied: pygments<3.0.0,>=2.13.0 in /home/aragy/.local/lib/python3.10/site-packages (from rich->deepeval) (2.18.0)\n",
      "Requirement already satisfied: shellingham>=1.3.0 in /home/aragy/.local/lib/python3.10/site-packages (from typer->deepeval) (1.5.4)\n",
      "Requirement already satisfied: wrapt<2,>=1.10 in /home/aragy/.local/lib/python3.10/site-packages (from deprecated>=1.2.6->opentelemetry-api~=1.24.0->deepeval) (1.16.0)\n",
      "Requirement already satisfied: cachetools<6.0,>=2.0.0 in /home/aragy/.local/lib/python3.10/site-packages (from google-auth>=2.15.0->google-generativeai<0.8.0,>=0.7.0->langchain_google_genai) (5.5.0)\n",
      "Requirement already satisfied: pyasn1-modules>=0.2.1 in /home/aragy/.local/lib/python3.10/site-packages (from google-auth>=2.15.0->google-generativeai<0.8.0,>=0.7.0->langchain_google_genai) (0.4.1)\n",
      "Requirement already satisfied: rsa<5,>=3.1.4 in /home/aragy/.local/lib/python3.10/site-packages (from google-auth>=2.15.0->google-generativeai<0.8.0,>=0.7.0->langchain_google_genai) (4.9)\n",
      "Requirement already satisfied: httpcore==1.* in /home/aragy/.local/lib/python3.10/site-packages (from httpx<1,>=0.23.0->anthropic<1,>=0.30.0->langchain_anthropic) (1.0.5)\n",
      "Requirement already satisfied: h11<0.15,>=0.13 in /home/aragy/.local/lib/python3.10/site-packages (from httpcore==1.*->httpx<1,>=0.23.0->anthropic<1,>=0.30.0->langchain_anthropic) (0.14.0)\n",
      "Requirement already satisfied: jsonpointer>=1.9 in /home/aragy/.local/lib/python3.10/site-packages (from jsonpatch<2.0,>=1.33->langchain-core<0.4.0,>=0.3.0->langchain) (3.0.0)\n",
      "Requirement already satisfied: mdurl~=0.1 in /home/aragy/.local/lib/python3.10/site-packages (from markdown-it-py>=2.2.0->rich->deepeval) (0.1.2)\n",
      "Requirement already satisfied: huggingface-hub<1.0,>=0.16.4 in /home/aragy/.local/lib/python3.10/site-packages (from tokenizers>=0.13.0->anthropic<1,>=0.30.0->langchain_anthropic) (0.25.1)\n",
      "Requirement already satisfied: mypy-extensions>=0.3.0 in /home/aragy/.local/lib/python3.10/site-packages (from typing-inspect<1,>=0.4.0->dataclasses-json<0.7,>=0.5.7->langchain_community) (1.0.0)\n",
      "Requirement already satisfied: filelock in /home/aragy/.local/lib/python3.10/site-packages (from datasets->ragas->deepeval) (3.16.1)\n",
      "Requirement already satisfied: pyarrow>=15.0.0 in /home/aragy/.local/lib/python3.10/site-packages (from datasets->ragas->deepeval) (17.0.0)\n",
      "Requirement already satisfied: xxhash in /home/aragy/.local/lib/python3.10/site-packages (from datasets->ragas->deepeval) (3.5.0)\n",
      "Requirement already satisfied: fsspec[http]<=2024.6.1,>=2023.1.0 in /home/aragy/.local/lib/python3.10/site-packages (from datasets->ragas->deepeval) (2024.6.1)\n",
      "Requirement already satisfied: multiprocess in /home/aragy/.local/lib/python3.10/site-packages (from datasets->ragas->deepeval) (0.70.16)\n",
      "Requirement already satisfied: dill<0.3.9,>=0.3.0 in /home/aragy/.local/lib/python3.10/site-packages (from datasets->ragas->deepeval) (0.3.8)\n",
      "Requirement already satisfied: uritemplate<5,>=3.0.1 in /home/aragy/.local/lib/python3.10/site-packages (from google-api-python-client->google-generativeai<0.8.0,>=0.7.0->langchain_google_genai) (4.1.1)\n",
      "Requirement already satisfied: httplib2<1.dev0,>=0.19.0 in /usr/lib/python3/dist-packages (from google-api-python-client->google-generativeai<0.8.0,>=0.7.0->langchain_google_genai) (0.20.2)\n",
      "Requirement already satisfied: google-auth-httplib2<1.0.0,>=0.2.0 in /home/aragy/.local/lib/python3.10/site-packages (from google-api-python-client->google-generativeai<0.8.0,>=0.7.0->langchain_google_genai) (0.2.0)\n",
      "Requirement already satisfied: grpcio-status<2.0.dev0,>=1.33.2 in /home/aragy/.local/lib/python3.10/site-packages (from google-api-core->google-generativeai<0.8.0,>=0.7.0->langchain_google_genai) (1.62.3)\n",
      "Requirement already satisfied: pyparsing!=3.0.0,!=3.0.1,!=3.0.2,!=3.0.3,<4,>=2.4.2 in /usr/lib/python3/dist-packages (from httplib2<1.dev0,>=0.19.0->google-api-python-client->google-generativeai<0.8.0,>=0.7.0->langchain_google_genai) (2.4.7)\n",
      "Requirement already satisfied: pyasn1<0.7.0,>=0.4.6 in /home/aragy/.local/lib/python3.10/site-packages (from pyasn1-modules>=0.2.1->google-auth>=2.15.0->google-generativeai<0.8.0,>=0.7.0->langchain_google_genai) (0.6.1)\n",
      "Installing collected packages: primp, duckduckgo-search\n",
      "Successfully installed duckduckgo-search-6.2.12 primp-0.6.2\n"
     ]
    }
   ],
   "source": [
    "!pip install pandas pydantic langchain langchain_community langchain_openai langchain_anthropic langchain_google_genai deepeval rank_bm25 faiss-cpu duckduckgo-search"
   ]
  },
  {
   "cell_type": "code",
   "execution_count": 8,
   "metadata": {},
   "outputs": [
    {
     "name": "stderr",
     "output_type": "stream",
     "text": [
      "/home/aragy/.local/lib/python3.10/site-packages/tqdm/auto.py:21: TqdmWarning: IProgress not found. Please update jupyter and ipywidgets. See https://ipywidgets.readthedocs.io/en/stable/user_install.html\n",
      "  from .autonotebook import tqdm as notebook_tqdm\n"
     ]
    }
   ],
   "source": [
    "import os\n",
    "import re\n",
    "import json\n",
    "from typing import List, Tuple, Optional\n",
    "\n",
    "import pandas as pd\n",
    "from pydantic import BaseModel, Field\n",
    "from langchain.docstore.document import Document\n",
    "from langchain.retrievers import EnsembleRetriever\n",
    "from langchain_community.retrievers import BM25Retriever\n",
    "from langchain_community.vectorstores import FAISS\n",
    "from langchain_openai import OpenAIEmbeddings, ChatOpenAI\n",
    "from langchain_anthropic import ChatAnthropic\n",
    "from langchain_google_genai import ChatGoogleGenerativeAI\n",
    "from langchain.prompts import PromptTemplate\n",
    "from langchain.tools import DuckDuckGoSearchResults\n",
    "from dotenv import load_dotenv\n",
    "\n",
    "from deepeval import evaluate\n",
    "from deepeval.metrics import GEval, FaithfulnessMetric, ContextualRelevancyMetric\n",
    "from deepeval.test_case import LLMTestCase, LLMTestCaseParams\n",
    "\n"
   ]
  },
  {
   "cell_type": "code",
   "execution_count": 9,
   "metadata": {},
   "outputs": [
    {
     "data": {
      "text/plain": [
       "True"
      ]
     },
     "execution_count": 9,
     "metadata": {},
     "output_type": "execute_result"
    }
   ],
   "source": [
    "load_dotenv(\"/home/aragy/HumaAI/Huma.ai-assessment/Section_2_to_6/.env\")"
   ]
  },
  {
   "cell_type": "markdown",
   "metadata": {},
   "source": [
    "# Section 2 : Setting Up the Retrieval System\n",
    "\n",
    "The retrieval system is based in two techniques working together:\n",
    "- Reciprocal Rank Fusion (https://plg.uwaterloo.ca/~gvcormac/cormacksigir09-rrf.pdf):\n",
    "    using FAISS as vectorstore to perform a similarity search based in vector representation, as BM25 to seach similarily based on statistics\n",
    "\n",
    "- CRAG(Corrective RAG)\n",
    "    Extends the standard RAG approach by dynamically evaluating and correcting the retrieval process, combining the power of vector databases(in this case RRF retrieval), web search, and language models to provide accurate and context-aware responses to user queries. "
   ]
  },
  {
   "cell_type": "code",
   "execution_count": 10,
   "metadata": {},
   "outputs": [],
   "source": [
    "class DocumentRetriever:\n",
    "    def __init__(self, bm25_docs: List[str], faiss_docs: List[str]):\n",
    "        self.bm25_retriever = BM25Retriever.from_texts(\n",
    "            bm25_docs, metadatas=[{\"source\": 1}] * len(bm25_docs)\n",
    "        )\n",
    "        self.bm25_retriever.k = 5        \n",
    "        embedding = OpenAIEmbeddings()\n",
    "        faiss_vectorstore = FAISS.from_texts(\n",
    "            faiss_docs, embedding, metadatas=[{\"source\": 2}] * len(faiss_docs)\n",
    "        )\n",
    "        self.faiss_retriever = faiss_vectorstore.as_retriever(search_kwargs={\"k\": 5})\n",
    "\n",
    "        self.ensemble_retriever = EnsembleRetriever(\n",
    "            retrievers=[self.bm25_retriever, self.faiss_retriever], weights=[0.5, 0.5]\n",
    "        )\n",
    "\n",
    "    def retrieve(self, query: str) -> List[Document]:\n",
    "        return self.ensemble_retriever.invoke(query)"
   ]
  },
  {
   "cell_type": "code",
   "execution_count": 11,
   "metadata": {},
   "outputs": [],
   "source": [
    "class RetrievalEvaluatorInput(BaseModel):\n",
    "    relevance_score: float = Field(..., description=\"The relevance score of the document to the query. the score should be between 0 and 1.\")"
   ]
  },
  {
   "cell_type": "code",
   "execution_count": 12,
   "metadata": {},
   "outputs": [],
   "source": [
    "class Evaluator:\n",
    "    def __init__(self, llm):\n",
    "        self.llm = llm\n",
    "\n",
    "    def evaluate_relevance(self, query: str, document: str) -> float:\n",
    "        prompt = PromptTemplate(\n",
    "            input_variables=[\"query\", \"document\"],\n",
    "            template=\"On a scale from 0 to 1, how relevant is the following document to the query? Query: {query}\\nDocument: {document}\\nRelevance score:\"\n",
    "        )\n",
    "        chain = prompt | self.llm.with_structured_output(RetrievalEvaluatorInput)\n",
    "        input_variables = {\"query\": query, \"document\": document}\n",
    "        result = chain.invoke(input_variables).relevance_score\n",
    "        return result"
   ]
  },
  {
   "cell_type": "code",
   "execution_count": 13,
   "metadata": {},
   "outputs": [],
   "source": [
    "class KnowledgeRefinementInput(BaseModel):\n",
    "    key_points: str = Field(..., description=\"The document to extract key information from.\")"
   ]
  },
  {
   "cell_type": "code",
   "execution_count": 14,
   "metadata": {},
   "outputs": [],
   "source": [
    "\n",
    "class KnowledgeRefiner:\n",
    "    def __init__(self, llm):\n",
    "        self.llm = llm\n",
    "\n",
    "    def refine(self, document: str) -> List[str]:\n",
    "        prompt = PromptTemplate(\n",
    "            input_variables=[\"document\"],\n",
    "            template=\"Extract the key information from the following document in bullet points:\\n{document}\\nKey points:\"\n",
    "        )\n",
    "        chain = prompt | self.llm.with_structured_output(KnowledgeRefinementInput)\n",
    "        input_variables = {\"document\": document}\n",
    "        result = chain.invoke(input_variables).key_points\n",
    "        return [point.strip() for point in result.split('\\n') if point.strip()]"
   ]
  },
  {
   "cell_type": "code",
   "execution_count": 15,
   "metadata": {},
   "outputs": [],
   "source": [
    "class QueryRewriterInput(BaseModel):\n",
    "    query: str = Field(..., description=\"The query to rewrite.\")"
   ]
  },
  {
   "cell_type": "code",
   "execution_count": 16,
   "metadata": {},
   "outputs": [],
   "source": [
    "class QueryRewriter:\n",
    "    def __init__(self, llm):\n",
    "        self.llm = llm\n",
    "\n",
    "    def rewrite(self, query: str) -> str:\n",
    "        prompt = PromptTemplate(\n",
    "            input_variables=[\"query\"],\n",
    "            template=\"Rewrite the following query to make it more suitable for a web search:\\n{query}\\nRewritten query:\"\n",
    "        )\n",
    "        chain = prompt | self.llm.with_structured_output(QueryRewriterInput)\n",
    "        input_variables = {\"query\": query}\n",
    "        return chain.invoke(input_variables).query.strip()"
   ]
  },
  {
   "cell_type": "code",
   "execution_count": 17,
   "metadata": {},
   "outputs": [],
   "source": [
    "class WebSearcher:\n",
    "    def __init__(self, llm):\n",
    "        self.llm = llm\n",
    "        self.search = DuckDuckGoSearchResults()\n",
    "\n",
    "    def search_and_refine(self, query: str) -> Tuple[List[str], List[Tuple[str, str]]]:\n",
    "        rewritten_query = QueryRewriter(self.llm).rewrite(query)\n",
    "        web_results = self.search.run(rewritten_query)\n",
    "        web_knowledge = KnowledgeRefiner(self.llm).refine(web_results)\n",
    "        sources = self.parse_search_results(web_results)\n",
    "        return web_knowledge, sources\n",
    "\n",
    "    @staticmethod\n",
    "    def parse_search_results(results_string: str) -> List[Tuple[str, str]]:\n",
    "        try:\n",
    "            pattern = r'snippet: (.*?), title: (.*?), link: (https?://[^\\s,]+)'\n",
    "            matches = re.findall(pattern, results_string)\n",
    "            data = [{\"snippet\": snippet, \"title\": title, \"link\": link} for snippet, title, link in matches]\n",
    "            results = json.loads(json.dumps(data, indent=4))\n",
    "            return [(result.get('title', 'Untitled'), result.get('link', '')) for result in results]\n",
    "        except json.JSONDecodeError:\n",
    "            print(\"Error parsing search results. Returning empty list.\")\n",
    "            return []"
   ]
  },
  {
   "cell_type": "code",
   "execution_count": 18,
   "metadata": {},
   "outputs": [],
   "source": [
    "class ResponseGenerator:\n",
    "    def __init__(self, llm):\n",
    "        self.llm = llm\n",
    "\n",
    "    def generate(self, query: str, knowledge: str, sources: List[Tuple[str, str]]) -> str:\n",
    "        response_prompt = PromptTemplate(\n",
    "            input_variables=[\"query\", \"knowledge\", \"sources\"],\n",
    "            template=\"Based on the following knowledge, answer the query. Include the sources with their links (if available) at the end of your answer:\\nQuery: {query}\\nKnowledge: {knowledge}\\nSources: {sources}\\nAnswer:\"\n",
    "        )\n",
    "        input_variables = {\n",
    "            \"query\": query,\n",
    "            \"knowledge\": knowledge,\n",
    "            \"sources\": \"\\n\".join([f\"{title}: {link}\" if link else title for title, link in sources])\n",
    "        }\n",
    "        response_chain = response_prompt | self.llm\n",
    "        return response_chain.invoke(input_variables).content"
   ]
  },
  {
   "cell_type": "code",
   "execution_count": 19,
   "metadata": {},
   "outputs": [],
   "source": [
    "class QueryProcessor:\n",
    "    def __init__(self, retriever: DocumentRetriever, evaluator: Evaluator, web_searcher: WebSearcher, llm):\n",
    "        self.retriever = retriever\n",
    "        self.evaluator = evaluator\n",
    "        self.web_searcher = web_searcher\n",
    "        self.llm = llm\n",
    "\n",
    "    def process(self, query: str, eval_documents: bool = True) -> str:\n",
    "        \"\"\"\n",
    "        Process the query and generate a response.\n",
    "\n",
    "        Args:\n",
    "            query (str): The query string.\n",
    "            eval_documents (bool): Whether to calculate evaluation scores or just use the retrieved documents.\n",
    "\n",
    "        Returns:\n",
    "            str: The generated response.\n",
    "        \"\"\"\n",
    "        retrieved_docs = self.retriever.retrieve(query)\n",
    "        \n",
    "        if eval_documents:\n",
    "            eval_scores = [self.evaluator.evaluate_relevance(query, doc.page_content) for doc in retrieved_docs]\n",
    "            max_score = max(eval_scores)\n",
    "\n",
    "            if max_score > 0.7:\n",
    "                best_doc = retrieved_docs[eval_scores.index(max_score)]\n",
    "                final_knowledge = best_doc.page_content\n",
    "                sources = [(\"Retrieved document\", \"\")]\n",
    "            elif max_score < 0.3:\n",
    "                final_knowledge, sources = self.web_searcher.search_and_refine(query)\n",
    "            else:\n",
    "                best_doc = retrieved_docs[eval_scores.index(max_score)]\n",
    "                retrieved_knowledge = KnowledgeRefiner(self.llm).refine(best_doc.page_content)\n",
    "                web_knowledge, web_sources = self.web_searcher.search_and_refine(query)\n",
    "                final_knowledge = \"\\n\".join(retrieved_knowledge + web_knowledge)\n",
    "                sources = [(\"Retrieved document\", \"\")] + web_sources\n",
    "        else:\n",
    "            final_knowledge = retrieved_docs[0].page_content\n",
    "            sources = [(\"Retrieved document\", \"\")]\n",
    "\n",
    "        response = ResponseGenerator(self.llm).generate(query, final_knowledge, sources)\n",
    "        return response"
   ]
  },
  {
   "cell_type": "code",
   "execution_count": 24,
   "metadata": {},
   "outputs": [],
   "source": [
    "#df = pd.read_csv('/home/aragy/Huma.ai-assessment/Dataset/cleaned_dataset.csv')\n",
    "df = pd.read_csv('/home/aragy/HumaAI/Huma.ai-assessment/Dataset/cleaned_dataset.csv')\n",
    "documents = [row['question'] + ' ' + row['answer_solution'] for _, row in df.iterrows()]\n",
    "\n",
    "retriever = DocumentRetriever(documents, documents)\n"
   ]
  },
  {
   "cell_type": "code",
   "execution_count": 16,
   "metadata": {},
   "outputs": [
    {
     "data": {
      "text/plain": [
       "[Document(metadata={'source': 1}, page_content='What are the common side effects of Keytruda? Common side effects include fatigue, nausea, and skin rash.'),\n",
       " Document(metadata={'source': 1}, page_content='Can Keytruda cause immune-related adverse effects? Yes, Keytruda can cause immune-related adverse effects such as colitis, hepatitis, and pneumonitis.'),\n",
       " Document(metadata={'source': 1}, page_content='What were the side effects noted in the KEYNOTE-006 trial? Common side effects included fatigue, itching, and diarrhea.'),\n",
       " Document(metadata={'source': 2}, page_content='Are there specific side effects of Keytruda that NSCLC patients should monitor? NSCLC patients should monitor for cough, shortness of breath, and chest pain, as these could indicate immune-related pneumonitis.'),\n",
       " Document(metadata={'source': 2}, page_content='What should patients report immediately while on Keytruda treatment? Patients should report any new or worsening symptoms such as cough, chest pain, or changes in vision immediately.'),\n",
       " Document(metadata={'source': 1}, page_content=\"How does Keytruda's effectiveness in NSCLC compare between smokers and non-smokers in KEYNOTE-051? The effectiveness was slightly higher in non-smokers, although significant benefits were still observed in smokers.\"),\n",
       " Document(metadata={'source': 1}, page_content='What was the impact of Keytruda on quality of life for NSCLC patients in KEYNOTE-123? Keytruda improved the quality of life by reducing symptoms related to NSCLC and decreasing the side effects typically associated with chemotherapy.'),\n",
       " Document(metadata={'source': 2}, page_content='How do healthcare providers educate patients about the benefits and risks of Keytruda? Healthcare providers offer educational materials, detailed consultations, and regular follow-up to discuss treatment progress and side effects.')]"
      ]
     },
     "execution_count": 16,
     "metadata": {},
     "output_type": "execute_result"
    }
   ],
   "source": [
    "retriever.retrieve(\"What are the Keytruda's side effects?\")"
   ]
  },
  {
   "cell_type": "code",
   "execution_count": 27,
   "metadata": {},
   "outputs": [],
   "source": [
    "llm = ChatOpenAI(model=\"gpt-4o-mini\", max_tokens=1000, temperature=0)\n",
    "evaluator = Evaluator(llm)\n",
    "web_searcher = WebSearcher(llm)"
   ]
  },
  {
   "cell_type": "markdown",
   "metadata": {},
   "source": [
    "### Section 6 - Expanding the RAG System to the Internet"
   ]
  },
  {
   "cell_type": "code",
   "execution_count": 28,
   "metadata": {},
   "outputs": [
    {
     "name": "stderr",
     "output_type": "stream",
     "text": [
      "/tmp/ipykernel_2986795/96624778.py:1: LangChainDeprecationWarning: The method `BaseTool.__call__` was deprecated in langchain-core 0.1.47 and will be removed in 1.0. Use :meth:`~invoke` instead.\n",
      "  web_searcher.search(\"What are the Keytruda's side effects?\")\n"
     ]
    },
    {
     "data": {
      "text/plain": [
       "\"snippet: Keytruda is a biologic that belongs to the programmed cell death protein 1 (PD-1) inhibitor drug class. Read on to learn about potential common, mild, and serious side effects of Keytruda. For a ..., title: Keytruda side effects: What they are and how to manage them, link: https://www.medicalnewstoday.com/articles/drugs-keytruda-side-effects, snippet: These side effects can vary depending on whether Keytruda is used alone or with other cancer drugs. Examples of Keytruda's commonly reported side effects include: diarrhea. fatigue. loss of ..., title: Keytruda Side Effects: Common to Serious, Explained - Healthline, link: https://www.healthline.com/health/drugs/keytruda-side-effects, snippet: Check with your doctor or nurse immediately if any of the following side effects occur while taking pembrolizumab: More common. black, tarry stools. bladder pain. bloating or swelling of the face, arms, hands, lower legs, or feet. bloody or cloudy urine. blurred vision. body aches or pain., title: Keytruda Side Effects: Common, Severe, Long Term - Drugs.com, link: https://www.drugs.com/sfx/keytruda-side-effects.html, snippet: Keytruda side effects. The most common side effects of Keytruda when it is used alone are: feeling tired/fatigue. pain, including pain in the stomach, muscles, bones, or joints. rash or itching. diarrhea. fever. cough. decreased appetite., title: Keytruda: Uses, Dosage, Side Effects, Warnings - Drugs.com, link: https://www.drugs.com/keytruda.html\""
      ]
     },
     "execution_count": 28,
     "metadata": {},
     "output_type": "execute_result"
    }
   ],
   "source": [
    "web_searcher.search(\"What are the Keytruda's side effects?\")"
   ]
  },
  {
   "cell_type": "code",
   "execution_count": 29,
   "metadata": {},
   "outputs": [
    {
     "data": {
      "text/plain": [
       "(['- Keytruda is a biologic drug that belongs to the PD-1 inhibitor class.',\n",
       "  '- Side effects can vary based on whether Keytruda is used alone or with other cancer drugs.',\n",
       "  '- Commonly reported side effects include:',\n",
       "  '- Diarrhea',\n",
       "  '- Fatigue',\n",
       "  '- Loss of appetite',\n",
       "  '- Pain (stomach, muscles, bones, joints)',\n",
       "  '- Rash or itching',\n",
       "  '- Fever',\n",
       "  '- Cough',\n",
       "  '- Serious side effects to watch for include:',\n",
       "  '- Black, tarry stools',\n",
       "  '- Bladder pain',\n",
       "  '- Bloating or swelling of face, arms, hands, lower legs, or feet',\n",
       "  '- Bloody or cloudy urine',\n",
       "  '- Blurred vision',\n",
       "  '- Body aches or pain',\n",
       "  '- It is important to consult a doctor if serious side effects occur.'],\n",
       " [('Keytruda side effects: What they are and how to manage them',\n",
       "   'https://www.medicalnewstoday.com/articles/drugs-keytruda-side-effects'),\n",
       "  ('Keytruda Side Effects: Common to Serious, Explained - Healthline',\n",
       "   'https://www.healthline.com/health/drugs/keytruda-side-effects'),\n",
       "  ('Keytruda Side Effects: Common, Severe, Long Term - Drugs.com',\n",
       "   'https://www.drugs.com/sfx/keytruda-side-effects.html'),\n",
       "  ('Keytruda: Uses, Dosage, Side Effects, Warnings - Drugs.com',\n",
       "   'https://www.drugs.com/keytruda.html')])"
      ]
     },
     "execution_count": 29,
     "metadata": {},
     "output_type": "execute_result"
    }
   ],
   "source": [
    "web_searcher.search_and_refine(\"What are the Keytruda's side effects?\")"
   ]
  },
  {
   "cell_type": "markdown",
   "metadata": {},
   "source": [
    "# Section 3: Integrating the Generation Component\n",
    "\n",
    "\n",
    "\n"
   ]
  },
  {
   "cell_type": "code",
   "execution_count": 30,
   "metadata": {},
   "outputs": [],
   "source": [
    "llm = ChatOpenAI(model=\"gpt-4o-mini\", max_tokens=1000, temperature=0)"
   ]
  },
  {
   "cell_type": "code",
   "execution_count": 31,
   "metadata": {},
   "outputs": [],
   "source": [
    "\n",
    "evaluator = Evaluator(llm)\n",
    "web_searcher = WebSearcher(llm)\n",
    "processor_gpt = QueryProcessor(retriever, evaluator, web_searcher, llm)"
   ]
  },
  {
   "cell_type": "code",
   "execution_count": 21,
   "metadata": {},
   "outputs": [
    {
     "name": "stdout",
     "output_type": "stream",
     "text": [
      "Keytruda (pembrolizumab) is an immunotherapy drug used to treat various types of cancer. Common side effects of Keytruda include:\n",
      "\n",
      "- Fatigue\n",
      "- Nausea\n",
      "- Skin rash\n",
      "\n",
      "These side effects can vary in intensity and may not occur in every patient. It's important for patients to discuss any side effects they experience with their healthcare provider.\n",
      "\n",
      "Sources: Retrieved document.\n"
     ]
    }
   ],
   "source": [
    "# response = processor_gpt.process(\"What are the Keytruda's side effects?\")\n",
    "# print(response)"
   ]
  },
  {
   "cell_type": "code",
   "execution_count": 22,
   "metadata": {},
   "outputs": [
    {
     "name": "stdout",
     "output_type": "stream",
     "text": [
      "Keytruda (pembrolizumab) is an immunotherapy medication primarily indicated for the treatment of various types of cancer, including:\n",
      "\n",
      "1. **Non-small cell lung cancer (NSCLC)** - It is particularly effective in patients with PD-L1 expression, significantly improving survival rates.\n",
      "2. **Melanoma**\n",
      "3. **Head and neck squamous cell cancer (HNSCC)**\n",
      "4. **Classical Hodgkin Lymphoma**\n",
      "5. **Endometrial carcinoma**\n",
      "6. **Triple-negative breast cancer**\n",
      "\n",
      "Keytruda functions as a checkpoint inhibitor, enhancing the immune system's ability to fight cancer. It is intended for long-term treatment, with recommended dosages of 200 mg once every 3 weeks or 400 mg once every 6 weeks. Treatment effectiveness is monitored through imaging, blood tests, and laboratory tests.\n",
      "\n",
      "For more detailed information, you can refer to the following sources:\n",
      "- [Drugs.com - Keytruda: Uses, Dosage, Side Effects, Warnings](https://www.drugs.com/keytruda.html)\n",
      "- [Medical News Today - Keytruda (pembrolizumab): Side effects, uses, cost, and more](https://www.medicalnewstoday.com/articles/keytruda)\n",
      "- [Healthline - Signs That Keytruda Is Working: Test Results and More](https://www.healthline.com/health/drugs/signs-keytruda-is-working)\n",
      "- [Drugs.com - Keytruda: 7 things you should know](https://www.drugs.com/tips/keytruda-patient-tips)\n"
     ]
    }
   ],
   "source": [
    "# response = processor_gpt.process(\"What is the indication for using Keytruda?\")\n",
    "# print(response)"
   ]
  },
  {
   "cell_type": "code",
   "execution_count": 23,
   "metadata": {},
   "outputs": [
    {
     "name": "stdout",
     "output_type": "stream",
     "text": [
      "Keytruda (pembrolizumab) has shown significant effectiveness in promoting cancer remission, particularly in specific types of cancer such as non-small cell lung cancer (NSCLC) and muscle-invasive urothelial carcinoma (MIUC). \n",
      "\n",
      "1. **Non-Small Cell Lung Cancer (NSCLC)**: Keytruda is particularly effective in patients with high PD-L1 expression, leading to improved survival rates. The use of PD-1 immune checkpoint inhibitors like Keytruda has been associated with prolonged overall survival (OS) in various cancer patients.\n",
      "\n",
      "2. **Muscle-Invasive Urothelial Carcinoma (MIUC)**: In patients with high-risk MIUC, adjuvant treatment with Keytruda has resulted in improved disease-free survival (DFS) compared to observation alone after surgery. This suggests that Keytruda can significantly enhance remission rates in this patient population.\n",
      "\n",
      "3. **General Effectiveness**: The effectiveness of Keytruda can vary based on the type of cancer, its stage, and the patient's previous treatments. It has been used in approximately 2.5 million patients and is involved in numerous clinical studies, indicating its widespread application and ongoing research into its efficacy.\n",
      "\n",
      "4. **Clear-Cell Renal Cell Carcinoma**: Keytruda has also been shown to be effective in treating clear-cell renal cell carcinoma, supported by large clinical trial results.\n",
      "\n",
      "Overall, while the success rate of Keytruda can differ based on individual circumstances, its role in improving remission and survival rates in various cancers is well-documented.\n",
      "\n",
      "**Sources**:\n",
      "- [What is the success rate of Keytruda? - Drugs.com](https://www.drugs.com/medical-answers/success-rate-keytruda-3555529/)\n",
      "- [Keytruda Improves Disease-Free Survival in Some With Urothelial Carcinoma](https://www.curetoday.com/view/keytruda-improves-disease-free-survival-in-some-with-urothelial-carcinoma)\n",
      "- [A decade of cancer immunotherapy: Keytruda, Opdivo and the drugs that ...](https://www.biopharmadive.com/news/cancer-immunotherapy-decade-keytruda-opdivo-pd1-oncology/725774/)\n",
      "- [Adjuvant Keytruda Improves Kidney Cancer Survival - NCI](https://www.cancer.gov/news-events/cancer-currents-blog/2024/kidney-cancer-pembrolizumab-increases-survival)\n"
     ]
    }
   ],
   "source": [
    "# response = processor_gpt.process(\"How Keytruda perform in cancer remission?\")\n",
    "# print(response)"
   ]
  },
  {
   "cell_type": "markdown",
   "metadata": {},
   "source": [
    "### Claude 3.5 sonnet"
   ]
  },
  {
   "cell_type": "code",
   "execution_count": 32,
   "metadata": {},
   "outputs": [],
   "source": [
    "llm_claude = ChatAnthropic(temperature=0, model_name='claude-3-5-sonnet-20240620')"
   ]
  },
  {
   "cell_type": "code",
   "execution_count": 33,
   "metadata": {},
   "outputs": [],
   "source": [
    "evaluator_claude = Evaluator(llm_claude)\n",
    "web_searcher_claude = WebSearcher(llm_claude)\n",
    "processor_claude = QueryProcessor(retriever, evaluator_claude, web_searcher_claude, llm_claude)"
   ]
  },
  {
   "cell_type": "code",
   "execution_count": 58,
   "metadata": {},
   "outputs": [
    {
     "name": "stdout",
     "output_type": "stream",
     "text": [
      "Based on the provided knowledge, the common side effects of Keytruda include:\n",
      "\n",
      "1. Fatigue\n",
      "2. Nausea\n",
      "3. Skin rash\n",
      "\n",
      "It's important to note that these are just the common side effects, and individual experiences may vary. Patients should always consult their healthcare provider for a comprehensive list of potential side effects and to discuss any concerns they may have about their treatment.\n",
      "\n",
      "Source:\n",
      "Retrieved document (no link available)\n"
     ]
    }
   ],
   "source": [
    "# response = processor_claude.process(\"What are the Keytruda's side effects?\")\n",
    "# print(response)"
   ]
  },
  {
   "cell_type": "code",
   "execution_count": 59,
   "metadata": {},
   "outputs": [
    {
     "name": "stdout",
     "output_type": "stream",
     "text": [
      "Based on the provided knowledge, Keytruda (pembrolizumab) is indicated for the treatment of various types of cancer, including:\n",
      "\n",
      "1. Non-small cell lung cancer, particularly in patients with PD-L1 expression\n",
      "2. Melanoma (skin cancer)\n",
      "3. Adenocarcinomas\n",
      "4. Endometrial carcinoma\n",
      "5. Triple-negative breast cancer\n",
      "\n",
      "Keytruda is an immunotherapy treatment classified as a checkpoint inhibitor. It works by helping the immune system fight cancer cells. The treatment has shown significant improvement in survival rates, especially for non-small cell lung cancer patients.\n",
      "\n",
      "It's important to note that Keytruda is intended for long-term treatment, and its use is continuously being evaluated in numerous clinical trials for various cancers. Since its initial approval in September 2014, at least 20 new indications have been approved, and ongoing investigational studies are exploring new uses for pembrolizumab.\n",
      "\n",
      "Sources:\n",
      "1. Keytruda: Uses, Dosage, Side Effects, Warnings - Drugs.com: https://www.drugs.com/keytruda.html\n",
      "2. Keytruda (pembrolizumab): Side effects, uses, cost, and more: https://www.medicalnewstoday.com/articles/keytruda\n",
      "3. What type of cancer is pembrolizumab used for? - Drugs.com: https://www.drugs.com/medical-answers/type-cancer-pembrolizumab-3553698/\n",
      "4. Keytruda: 7 things you should know - Drugs.com: https://www.drugs.com/tips/keytruda-patient-tips\n"
     ]
    }
   ],
   "source": [
    "# response = processor_claude.process(\"What is the indication for using Keytruda?\")\n",
    "# print(response)"
   ]
  },
  {
   "cell_type": "code",
   "execution_count": 60,
   "metadata": {},
   "outputs": [
    {
     "name": "stdout",
     "output_type": "stream",
     "text": [
      "Based on the provided knowledge, I cannot directly answer how Keytruda performs in cancer remission. The information given is specifically about Keytruda's effectiveness in treating non-small cell lung cancer, not about its performance in cancer remission.\n",
      "\n",
      "However, I can share what is provided:\n",
      "\n",
      "Keytruda has demonstrated significant improvement in survival rates for patients with non-small cell lung cancer who have PD-L1 expression. This suggests that Keytruda is effective in treating this specific type of cancer, but it does not provide information about cancer remission in general or for other types of cancer.\n",
      "\n",
      "To accurately answer the query about Keytruda's performance in cancer remission, more specific and relevant information would be needed.\n",
      "\n",
      "Source:\n",
      "Retrieved document (no link available)\n"
     ]
    }
   ],
   "source": [
    "# response = processor_claude.process(\"How Keytruda perform in cancer remission?\")\n",
    "# print(response)"
   ]
  },
  {
   "cell_type": "markdown",
   "metadata": {},
   "source": [
    "### Gemini"
   ]
  },
  {
   "cell_type": "code",
   "execution_count": 34,
   "metadata": {},
   "outputs": [],
   "source": [
    "llm_gemini = ChatGoogleGenerativeAI(model=\"gemini-1.5-flash\", temperature=0,)"
   ]
  },
  {
   "cell_type": "code",
   "execution_count": 35,
   "metadata": {},
   "outputs": [],
   "source": [
    "evaluator_gemini = Evaluator(llm_gemini)\n",
    "web_searcher_gemini = WebSearcher(llm_gemini)\n",
    "processor_gemini = QueryProcessor(retriever, evaluator_gemini, web_searcher_gemini, llm_gemini)"
   ]
  },
  {
   "cell_type": "code",
   "execution_count": 40,
   "metadata": {},
   "outputs": [
    {
     "name": "stdout",
     "output_type": "stream",
     "text": [
      "Keytruda's common side effects include fatigue, nausea, and skin rash. \n",
      "\n",
      "**Source:** Retrieved document \n",
      "\n"
     ]
    }
   ],
   "source": [
    "response = processor_gemini.process(\"What are the Keytruda's side effects?\")\n",
    "print(response)"
   ]
  },
  {
   "cell_type": "code",
   "execution_count": 42,
   "metadata": {},
   "outputs": [
    {
     "name": "stdout",
     "output_type": "stream",
     "text": [
      "Keytruda is indicated for the treatment of relapsed or refractory classical Hodgkin lymphoma after two or more lines of therapy. \n",
      "\n",
      "**Source:** Retrieved document \n",
      "\n"
     ]
    }
   ],
   "source": [
    "response = processor_gemini.process(\"What is the indication for using Keytruda?\")\n",
    "print(response)"
   ]
  },
  {
   "cell_type": "code",
   "execution_count": 43,
   "metadata": {},
   "outputs": [
    {
     "name": "stdout",
     "output_type": "stream",
     "text": [
      "Keytruda demonstrated superior efficacy compared to chemotherapy in NSCLC patients in the KEYNOTE-456 trial. This superiority was observed in terms of overall survival and progression-free survival. \n",
      "\n",
      "**Source:** Retrieved document \n",
      "\n"
     ]
    }
   ],
   "source": [
    "response = processor_gemini.process(\"How Keytruda perform in cancer remission?\")\n",
    "print(response)"
   ]
  },
  {
   "cell_type": "markdown",
   "metadata": {},
   "source": [
    "# Section 4: Evaluation and Optimization"
   ]
  },
  {
   "cell_type": "code",
   "execution_count": 30,
   "metadata": {},
   "outputs": [],
   "source": []
  },
  {
   "cell_type": "markdown",
   "metadata": {},
   "source": [
    "### Test Preparation"
   ]
  },
  {
   "cell_type": "code",
   "execution_count": 36,
   "metadata": {},
   "outputs": [],
   "source": [
    "class TestScenario:\n",
    "    def __init__(self, question: str, gt_answer: str, retrieval_context: List[str], ):\n",
    "        self.question = question\n",
    "        self.gt_answer = gt_answer\n",
    "        self.retrieval_context = retrieval_context        \n",
    "        self.pred_answer = None\n",
    "\n",
    "    def run(self, processor:QueryProcessor):\n",
    "\n",
    "        self.pred_answer = processor.process(self.question)\n",
    "\n",
    "        test_case_combined = LLMTestCase(\n",
    "            input=self.question,\n",
    "            expected_output=self.gt_answer,\n",
    "            actual_output=self.pred_answer,\n",
    "            retrieval_context=self.retrieval_context,\n",
    "        )\n",
    "        return test_case_combined"
   ]
  },
  {
   "cell_type": "code",
   "execution_count": 37,
   "metadata": {},
   "outputs": [],
   "source": [
    "class MetricsEvaluator:\n",
    "    def __init__(self,model_name:str) -> None:\n",
    "        self.model_name = model_name\n",
    "        self.correctness_metric = GEval(\n",
    "            name=\"Correctness\",\n",
    "            model=model_name,\n",
    "            evaluation_params=[\n",
    "                LLMTestCaseParams.EXPECTED_OUTPUT,\n",
    "                LLMTestCaseParams.ACTUAL_OUTPUT],\n",
    "            evaluation_steps=[\n",
    "                \"Determine whether the actual output is factually correct based on the expected output.\"\n",
    "            ],\n",
    "        )\n",
    "        self.faithfulness_metric = FaithfulnessMetric(\n",
    "            threshold=0.7,\n",
    "            model=model_name,\n",
    "            include_reason=True\n",
    "        )\n",
    "        self.relevance_metric = ContextualRelevancyMetric(\n",
    "            threshold=1,\n",
    "            model=model_name,\n",
    "            include_reason=True\n",
    "        )\n"
   ]
  },
  {
   "cell_type": "code",
   "execution_count": 38,
   "metadata": {},
   "outputs": [],
   "source": [
    "class TestRunner:\n",
    "    def __init__(self, metrics_evaluator:MetricsEvaluator):\n",
    "        self.metrics_evaluator = metrics_evaluator\n",
    "\n",
    "    def run_test(self, test_case: LLMTestCase):\n",
    "\n",
    "        self.metrics_evaluator.correctness_metric.measure(test_case)\n",
    "        self.metrics_evaluator.faithfulness_metric.measure(test_case)\n",
    "        self.metrics_evaluator.relevance_metric.measure(test_case)\n",
    "\n",
    "        print(f\"Correctness Score: {self.metrics_evaluator.correctness_metric.score}\")\n",
    "        print(f\"Faithfulness Score: {self.metrics_evaluator.faithfulness_metric.score}\")\n",
    "        print(f\"Contextual Relevancy Score: {self.metrics_evaluator.relevance_metric.score}\")"
   ]
  },
  {
   "cell_type": "markdown",
   "metadata": {},
   "source": [
    "### Scenarios"
   ]
  },
  {
   "cell_type": "markdown",
   "metadata": {},
   "source": [
    "1. Keytruda efficacy and drug interactions\n",
    "\n",
    "    * Question: \"Are there any known interactions between Keytruda and other medications?\"\n",
    "    * Ground Truth : \"Yes, Keytruda can interact with steroids and certain immunosuppressants, potentially affecting its efficacy and safety.\"\n",
    "    * Context: Includes documents on Keytruda side effects, effectiveness, and interactions."
   ]
  },
  {
   "cell_type": "code",
   "execution_count": 39,
   "metadata": {},
   "outputs": [],
   "source": [
    "question = \"Are there any known interactions between Keytruda and other medications?\"\n",
    "gt_answer = \"Yes, Keytruda can interact with steroids and certain immunosuppressants, potentially affecting its efficacy and safety.\"\n",
    "\n",
    "retrieval_context = [\n",
    "    \"Keytruda has interactions with steroids\",\n",
    "    \"Keytruda is commonly used with other immunosuppressants\"\n",
    "]\n",
    "\n",
    "scenario_1 = TestScenario(question=question, gt_answer=gt_answer, retrieval_context=retrieval_context)\n"
   ]
  },
  {
   "cell_type": "markdown",
   "metadata": {},
   "source": [
    "2. Five-Year Survival Rate with Keytruda\n",
    "\n",
    "    * Question: \"What is the five-year survival rate for patients using Keytruda for lung cancer?\"\n",
    "    * Ground Truth: \"No detailed information available on the given topic.\"\n",
    "    * Context: Documents related to survival rates, but lacking detailed data for five-year outcomes.\n"
   ]
  },
  {
   "cell_type": "code",
   "execution_count": 40,
   "metadata": {},
   "outputs": [],
   "source": [
    "question = \"What is the five-year survival rate for patients using Keytruda for lung cancer?\"\n",
    "gt_answer = \"No detailed information available on the given topic.\"\n",
    "\n",
    "retrieval_context = [\n",
    "    \"No detailed information available on the given topic.\",\n",
    "    \"Keytruda has improved survival rates, but specific five-year data may not be available.\"\n",
    "]\n",
    "\n",
    "scenario_2 = TestScenario(question=question, gt_answer=gt_answer, retrieval_context=retrieval_context)\n"
   ]
  },
  {
   "cell_type": "markdown",
   "metadata": {},
   "source": [
    "3. Common Side Effects of Keytruda\n",
    "\n",
    "    * Question: \"What are the common side effects of Keytruda?\"\n",
    "    * Ground Truth: \"Common side effects include fatigue, nausea, and skin rash.\"\n",
    "    * Context: Medical literature on Keytruda's side effects."
   ]
  },
  {
   "cell_type": "code",
   "execution_count": 41,
   "metadata": {},
   "outputs": [],
   "source": [
    "question = \"What are the common side effects of Keytruda?\"\n",
    "gt_answer = \"Common side effects include fatigue, nausea, and skin rash.\"\n",
    "\n",
    "retrieval_context = [\n",
    "    \"Common side effects include fatigue, nausea, and skin rash.\",\n",
    "    \"Patients should report any severe or unexpected side effects to their healthcare provider.\"\n",
    "]\n",
    "\n",
    "scenario_3 = TestScenario(question=question, gt_answer=gt_answer, retrieval_context=retrieval_context)\n"
   ]
  },
  {
   "cell_type": "markdown",
   "metadata": {},
   "source": [
    "4. Efficacy of Keytruda in NSCLC Patients\n",
    "\n",
    "    * Question: \"How effective is Keytruda in treating non-small cell lung cancer (NSCLC)?\"\n",
    "    * Ground Truth: \"Keytruda has shown to improve survival rates significantly in non-small cell lung cancer patients with PD-L1 expression.\"\n",
    "    * Context: Studies on the effectiveness of Keytruda in NSCLC treatment."
   ]
  },
  {
   "cell_type": "code",
   "execution_count": 42,
   "metadata": {},
   "outputs": [],
   "source": [
    "question = \"How effective is Keytruda in treating non-small cell lung cancer (NSCLC)?\"\n",
    "gt_answer = \"Keytruda has shown to improve survival rates significantly in non-small cell lung cancer patients with PD-L1 expression.\"\n",
    "\n",
    "retrieval_context = [\n",
    "    \"Keytruda has shown to improve survival rates significantly in non-small cell lung cancer patients with PD-L1 expression.\",\n",
    "    \"Some patients may see effects as early as 2 to 3 months into the treatment.\"\n",
    "]\n",
    "\n",
    "scenario_4 = TestScenario(question=question, gt_answer=gt_answer, retrieval_context=retrieval_context)\n"
   ]
  },
  {
   "cell_type": "markdown",
   "metadata": {},
   "source": [
    "5. Response Rate in Melanoma Patients Treated with Keytruda\n",
    "\n",
    "    * Question: \"What is the response rate of melanoma patients treated with Keytruda?\"\n",
    "    * Ground Truth: \"Approximately 40% of melanoma patients respond positively to Keytruda treatment.\"\n",
    "    * Context: Documents on Keytruda's efficacy in melanoma treatment."
   ]
  },
  {
   "cell_type": "code",
   "execution_count": 43,
   "metadata": {},
   "outputs": [],
   "source": [
    "question = \"What is the response rate of melanoma patients treated with Keytruda?\"\n",
    "gt_answer = \"Approximately 40% of melanoma patients respond positively to Keytruda treatment.\"\n",
    "\n",
    "retrieval_context = [\n",
    "    \"Approximately 40% of melanoma patients respond positively to Keytruda treatment.\",\n",
    "    \"Response rates may vary based on individual patient factors.\"\n",
    "]\n",
    "\n",
    "scenario_5 = TestScenario(question=question, gt_answer=gt_answer, retrieval_context=retrieval_context)\n"
   ]
  },
  {
   "cell_type": "markdown",
   "metadata": {},
   "source": [
    "### Run Test"
   ]
  },
  {
   "cell_type": "code",
   "execution_count": 44,
   "metadata": {},
   "outputs": [],
   "source": [
    "model_name_gpt = \"gpt-4o-mini\""
   ]
  },
  {
   "cell_type": "code",
   "execution_count": 45,
   "metadata": {},
   "outputs": [],
   "source": [
    "test_scenarios = [scenario_1, scenario_2, scenario_3, scenario_4, scenario_5]"
   ]
  },
  {
   "cell_type": "code",
   "execution_count": 46,
   "metadata": {},
   "outputs": [],
   "source": [
    "model_evaluator= MetricsEvaluator(model_name=model_name_gpt)"
   ]
  },
  {
   "cell_type": "code",
   "execution_count": 47,
   "metadata": {},
   "outputs": [],
   "source": [
    "test_runner = TestRunner(model_evaluator)"
   ]
  },
  {
   "cell_type": "markdown",
   "metadata": {},
   "source": [
    "### Testing GPT"
   ]
  },
  {
   "cell_type": "code",
   "execution_count": null,
   "metadata": {},
   "outputs": [],
   "source": [
    "print(\"Testing processor GPT-4o-mini\" )\n",
    "for number, scenario in enumerate(test_scenarios):\n",
    "    counter = number+1\n",
    "    print(\"Scenario \"+ str(counter))\n",
    "    print(\"Question:\"+ scenario.question)\n",
    "    print(\"Ground Thruth:\"+scenario.gt_answer)\n",
    "\n",
    "\n",
    "    test_case = scenario.run(processor=processor_gpt)\n",
    "    test_runner.run_test(test_case)\n",
    "    print(\"------------------------------------\")\n",
    "    print(\"\\n\")"
   ]
  },
  {
   "cell_type": "markdown",
   "metadata": {},
   "source": [
    "### Testing Gemini"
   ]
  },
  {
   "cell_type": "code",
   "execution_count": null,
   "metadata": {},
   "outputs": [],
   "source": [
    "print(\"Testing processor Gemini\" )\n",
    "for number, scenario in enumerate(test_scenarios):\n",
    "    counter = number+1\n",
    "    print(\"Scenario \"+ str(counter))\n",
    "    print(\"Question:\"+ scenario.question)\n",
    "    print(\"Ground Thruth:\"+scenario.gt_answer)\n",
    "\n",
    "\n",
    "    test_case = scenario.run(processor=processor_gemini)\n",
    "    test_runner.run_test(test_case)\n",
    "    print(\"------------------------------------\")\n",
    "    print(\"\\n\")"
   ]
  },
  {
   "cell_type": "markdown",
   "metadata": {},
   "source": [
    "### Testing Claude"
   ]
  },
  {
   "cell_type": "code",
   "execution_count": 49,
   "metadata": {},
   "outputs": [
    {
     "name": "stdout",
     "output_type": "stream",
     "text": [
      "Testing processor Claude\n",
      "Scenario 1\n",
      "Question:Are there any known interactions between Keytruda and other medications?\n",
      "Ground Thruth:Yes, Keytruda can interact with steroids and certain immunosuppressants, potentially affecting its efficacy and safety.\n"
     ]
    },
    {
     "data": {
      "application/vnd.jupyter.widget-view+json": {
       "model_id": "4071f50aa01e4b078c3175363623237b",
       "version_major": 2,
       "version_minor": 0
      },
      "text/plain": [
       "Output()"
      ]
     },
     "metadata": {},
     "output_type": "display_data"
    }
   ],
   "source": [
    "print(\"Testing processor Claude\" )\n",
    "for number, scenario in enumerate(test_scenarios):\n",
    "    counter = number+1\n",
    "    print(\"Scenario \"+ str(counter))\n",
    "    print(\"Question:\"+ scenario.question)\n",
    "    print(\"Ground Thruth:\"+scenario.gt_answer)\n",
    "\n",
    "\n",
    "    test_case = scenario.run(processor=processor_claude)\n",
    "    test_runner.run_test(test_case)\n",
    "    print(\"------------------------------------\")\n",
    "    print(\"\\n\")"
   ]
  }
 ],
 "metadata": {
  "kernelspec": {
   "display_name": ".venv",
   "language": "python",
   "name": "python3"
  },
  "language_info": {
   "codemirror_mode": {
    "name": "ipython",
    "version": 3
   },
   "file_extension": ".py",
   "mimetype": "text/x-python",
   "name": "python",
   "nbconvert_exporter": "python",
   "pygments_lexer": "ipython3",
   "version": "3.10.12"
  }
 },
 "nbformat": 4,
 "nbformat_minor": 2
}
