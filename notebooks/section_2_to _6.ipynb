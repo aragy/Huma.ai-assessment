{
 "cells": [
  {
   "cell_type": "code",
   "execution_count": null,
   "metadata": {},
   "outputs": [],
   "source": [
    "!pip install pandas pydantic langchain langchain_community langchain_openai langchain_anthropic langchain_google_genai deepeval rank_bm25 faiss-cpu duckduckgo-search"
   ]
  },
  {
   "cell_type": "code",
   "execution_count": 4,
   "metadata": {},
   "outputs": [
    {
     "name": "stdout",
     "output_type": "stream",
     "text": [
      "/home/aragy/HumaAI/.venv/bin/python\n"
     ]
    }
   ],
   "source": [
    "!which python"
   ]
  },
  {
   "cell_type": "code",
   "execution_count": 5,
   "metadata": {},
   "outputs": [],
   "source": [
    "import os\n",
    "import re\n",
    "import json\n",
    "from typing import List, Tuple, Optional\n",
    "\n",
    "import pandas as pd\n",
    "from pydantic import BaseModel, Field\n",
    "from langchain.docstore.document import Document\n",
    "from langchain.retrievers import EnsembleRetriever\n",
    "from langchain_community.retrievers import BM25Retriever\n",
    "from langchain_community.vectorstores import FAISS\n",
    "from langchain_openai import OpenAIEmbeddings, ChatOpenAI\n",
    "from langchain_anthropic import ChatAnthropic\n",
    "from langchain_google_genai import ChatGoogleGenerativeAI\n",
    "from langchain.prompts import PromptTemplate\n",
    "from langchain.tools import DuckDuckGoSearchResults\n",
    "from dotenv import load_dotenv\n",
    "\n",
    "from deepeval import evaluate\n",
    "from deepeval.metrics import GEval, FaithfulnessMetric, ContextualRelevancyMetric\n",
    "from deepeval.test_case import LLMTestCase, LLMTestCaseParams\n",
    "\n"
   ]
  },
  {
   "cell_type": "code",
   "execution_count": 6,
   "metadata": {},
   "outputs": [
    {
     "data": {
      "text/plain": [
       "True"
      ]
     },
     "execution_count": 6,
     "metadata": {},
     "output_type": "execute_result"
    }
   ],
   "source": [
    "load_dotenv(\"/home/aragy/HumaAI/Huma.ai-assessment/Section_2_to_6/.env\")"
   ]
  },
  {
   "cell_type": "markdown",
   "metadata": {},
   "source": [
    "# Section 2 : Setting Up the Retrieval System\n",
    "\n",
    "In this section, I set up the retrieval system using advanced techniques to enhance the effectiveness and accuracy of information retrieval.\n",
    "\n",
    "I implemented a combination of Reciprocal Rank Fusion (RRF) and Corrective Retrieval Augmented Generation (CRAG) for our retrieval system.\n",
    "\n",
    "1. **Reciprocal Rank Fusion** (https://plg.uwaterloo.ca/~gvcormac/cormacksigir09-rrf.pdf): RRF is an effective method for combining the results of multiple retrieval systems. By integrating both BM25 (a statistical term-based retrieval method) and FAISS (a vector similarity search using embeddings), we leverage the strengths of both approaches.\n",
    "    - **BM25 Retriever**: BM25 excels at term-based matching, effectively retrieving documents containing terms similar to the query.\n",
    "    - **FAISS Retriever**: FAISS allows for efficient vector similarity search, capturing semantic similarities that may not be evident through term matching.\n",
    "\n",
    "By fusing the rankings from both retrievers, RRF enhances overall retrieval performance, ensuring that relevant documents are not missed due to the limitations of a single method.\n",
    "\n",
    "\n",
    "2. **CRAG(Corrective RAG)**:    Extends the standard RAG approach by incorporating dynamic evaluation and correction of the retrieval process. This is crucial for ensuring the reliability and accuracy of the information provided to the user.\n",
    "\n",
    "- Dynamic Evaluation: An evaluator (implemented using a Language Model, LLM) assesses the relevance of the retrieved documents to the query.\n",
    "\n",
    "- Corrective Actions: Depending on the evaluation score:\n",
    "    - If relevance is high, the best document is selected.\n",
    "    - If relevance is moderate, retrieved knowledge is combined with web search results.\n",
    "    - If relevance is low, the system relies on web search to supplement knowledge.\n",
    "\n",
    "- Combining Internal and External Knowledge: This approach allows the system to provide comprehensive and accurate responses by utilizing both the internal dataset and external web resources when necessary.\n",
    "\n",
    "### Trade-offs Considered:\n",
    "\n",
    "- Complexity vs. Performance:\n",
    "\n",
    "    - Complexity: Implementing RRF and CRAG increases system complexity due to the integration of multiple retrieval methods and the need for dynamic evaluation.\n",
    "    - Performance Gains: The combined approach significantly improves retrieval accuracy and the ability to handle a wider range of queries effectively.\n",
    "    - Decision: Accepted increased complexity in favor of achieving higher accuracy and reliability, essential for medical information retrieval.\n",
    "\n",
    "- Computational Resources:\n",
    "\n",
    "    - Resource Consumption: The combined approach requires more computational resources due to multiple retrievers and the dynamic evaluation process.\n",
    "    - Optimization: Parameters were tuned (e.g., setting k=5 for the number of documents retrieved) to balance performance, cost and efficiency without overloading the system.\n",
    "\n",
    "- Cost Implications:\n",
    "\n",
    "    - API Costs: Using OpenAI embeddings involves API costs.\n",
    "    - Value Assessment: The improved performance and accuracy justify the expenditure, especially when accurate information retrieval can have significant impacts on user decisions in healthcare contexts.\n"
   ]
  },
  {
   "cell_type": "code",
   "execution_count": 7,
   "metadata": {},
   "outputs": [],
   "source": [
    "class DocumentRetriever:\n",
    "    def __init__(self, bm25_docs: List[str], faiss_docs: List[str]):\n",
    "        self.bm25_retriever = BM25Retriever.from_texts(\n",
    "            bm25_docs, metadatas=[{\"source\": 1}] * len(bm25_docs)\n",
    "        )\n",
    "        self.bm25_retriever.k = 5        \n",
    "        embedding = OpenAIEmbeddings()\n",
    "        faiss_vectorstore = FAISS.from_texts(\n",
    "            faiss_docs, embedding, metadatas=[{\"source\": 2}] * len(faiss_docs)\n",
    "        )\n",
    "        self.faiss_retriever = faiss_vectorstore.as_retriever(search_kwargs={\"k\": 5})\n",
    "\n",
    "        self.ensemble_retriever = EnsembleRetriever(\n",
    "            retrievers=[self.bm25_retriever, self.faiss_retriever], weights=[0.5, 0.5]\n",
    "        )\n",
    "\n",
    "    def retrieve(self, query: str) -> List[Document]:\n",
    "        return self.ensemble_retriever.invoke(query)"
   ]
  },
  {
   "cell_type": "code",
   "execution_count": 8,
   "metadata": {},
   "outputs": [],
   "source": [
    "class RetrievalEvaluatorInput(BaseModel):\n",
    "    relevance_score: float = Field(..., description=\"The relevance score of the document to the query. the score should be between 0 and 1.\")"
   ]
  },
  {
   "cell_type": "code",
   "execution_count": 9,
   "metadata": {},
   "outputs": [],
   "source": [
    "class Evaluator:\n",
    "    def __init__(self, llm):\n",
    "        self.llm = llm\n",
    "\n",
    "    def evaluate_relevance(self, query: str, document: str) -> float:\n",
    "        prompt = PromptTemplate(\n",
    "            input_variables=[\"query\", \"document\"],\n",
    "            template=\"On a scale from 0 to 1, how relevant is the following document to the query? Query: {query}\\nDocument: {document}\\nRelevance score:\"\n",
    "        )\n",
    "        chain = prompt | self.llm.with_structured_output(RetrievalEvaluatorInput)\n",
    "        input_variables = {\"query\": query, \"document\": document}\n",
    "        result = chain.invoke(input_variables).relevance_score\n",
    "        return result"
   ]
  },
  {
   "cell_type": "code",
   "execution_count": 10,
   "metadata": {},
   "outputs": [],
   "source": [
    "class KnowledgeRefinementInput(BaseModel):\n",
    "    key_points: str = Field(..., description=\"The document to extract key information from.\")"
   ]
  },
  {
   "cell_type": "code",
   "execution_count": 11,
   "metadata": {},
   "outputs": [],
   "source": [
    "\n",
    "class KnowledgeRefiner:\n",
    "    def __init__(self, llm):\n",
    "        self.llm = llm\n",
    "\n",
    "    def refine(self, document: str) -> List[str]:\n",
    "        prompt = PromptTemplate(\n",
    "            input_variables=[\"document\"],\n",
    "            template=\"Extract the key information from the following document in bullet points:\\n{document}\\nKey points:\"\n",
    "        )\n",
    "        chain = prompt | self.llm.with_structured_output(KnowledgeRefinementInput)\n",
    "        input_variables = {\"document\": document}\n",
    "        result = chain.invoke(input_variables).key_points\n",
    "        return [point.strip() for point in result.split('\\n') if point.strip()]"
   ]
  },
  {
   "cell_type": "code",
   "execution_count": 12,
   "metadata": {},
   "outputs": [],
   "source": [
    "class QueryRewriterInput(BaseModel):\n",
    "    query: str = Field(..., description=\"The query to rewrite.\")"
   ]
  },
  {
   "cell_type": "code",
   "execution_count": 13,
   "metadata": {},
   "outputs": [],
   "source": [
    "class QueryRewriter:\n",
    "    def __init__(self, llm):\n",
    "        self.llm = llm\n",
    "\n",
    "    def rewrite(self, query: str) -> str:\n",
    "        prompt = PromptTemplate(\n",
    "            input_variables=[\"query\"],\n",
    "            template=\"Rewrite the following query to make it more suitable for a web search:\\n{query}\\nRewritten query:\"\n",
    "        )\n",
    "        chain = prompt | self.llm.with_structured_output(QueryRewriterInput)\n",
    "        input_variables = {\"query\": query}\n",
    "        return chain.invoke(input_variables).query.strip()"
   ]
  },
  {
   "cell_type": "code",
   "execution_count": 14,
   "metadata": {},
   "outputs": [],
   "source": [
    "class WebSearcher:\n",
    "    def __init__(self, llm):\n",
    "        self.llm = llm\n",
    "        self.search = DuckDuckGoSearchResults()\n",
    "\n",
    "    def search_and_refine(self, query: str) -> Tuple[List[str], List[Tuple[str, str]]]:\n",
    "        rewritten_query = QueryRewriter(self.llm).rewrite(query)\n",
    "        web_results = self.search.run(rewritten_query)\n",
    "        web_knowledge = KnowledgeRefiner(self.llm).refine(web_results)\n",
    "        sources = self.parse_search_results(web_results)\n",
    "        return web_knowledge, sources\n",
    "\n",
    "    @staticmethod\n",
    "    def parse_search_results(results_string: str) -> List[Tuple[str, str]]:\n",
    "        try:\n",
    "            pattern = r'snippet: (.*?), title: (.*?), link: (https?://[^\\s,]+)'\n",
    "            matches = re.findall(pattern, results_string)\n",
    "            data = [{\"snippet\": snippet, \"title\": title, \"link\": link} for snippet, title, link in matches]\n",
    "            results = json.loads(json.dumps(data, indent=4))\n",
    "            return [(result.get('title', 'Untitled'), result.get('link', '')) for result in results]\n",
    "        except json.JSONDecodeError:\n",
    "            print(\"Error parsing search results. Returning empty list.\")\n",
    "            return []"
   ]
  },
  {
   "cell_type": "code",
   "execution_count": 15,
   "metadata": {},
   "outputs": [],
   "source": [
    "class ResponseGenerator:\n",
    "    def __init__(self, llm):\n",
    "        self.llm = llm\n",
    "\n",
    "    def generate(self, query: str, knowledge: str, sources: List[Tuple[str, str]]) -> str:\n",
    "        response_prompt = PromptTemplate(\n",
    "            input_variables=[\"query\", \"knowledge\", \"sources\"],\n",
    "            template=\"Based on the following knowledge, answer the query. Include the sources with their links (if available) at the end of your answer:\\nQuery: {query}\\nKnowledge: {knowledge}\\nSources: {sources}\\nAnswer:\"\n",
    "        )\n",
    "        input_variables = {\n",
    "            \"query\": query,\n",
    "            \"knowledge\": knowledge,\n",
    "            \"sources\": \"\\n\".join([f\"{title}: {link}\" if link else title for title, link in sources])\n",
    "        }\n",
    "        response_chain = response_prompt | self.llm\n",
    "        return response_chain.invoke(input_variables).content"
   ]
  },
  {
   "cell_type": "code",
   "execution_count": 16,
   "metadata": {},
   "outputs": [],
   "source": [
    "class QueryProcessor:\n",
    "    def __init__(self, retriever: DocumentRetriever, evaluator: Evaluator, web_searcher: WebSearcher, llm):\n",
    "        self.retriever = retriever\n",
    "        self.evaluator = evaluator\n",
    "        self.web_searcher = web_searcher\n",
    "        self.llm = llm\n",
    "\n",
    "    def process(self, query: str, eval_documents: bool = True) -> str:\n",
    "        \"\"\"\n",
    "        Process the query and generate a response.\n",
    "\n",
    "        Args:\n",
    "            query (str): The query string.\n",
    "            eval_documents (bool): Whether to calculate evaluation scores or just use the retrieved documents.\n",
    "\n",
    "        Returns:\n",
    "            str: The generated response.\n",
    "        \"\"\"\n",
    "        retrieved_docs = self.retriever.retrieve(query)\n",
    "        \n",
    "        if eval_documents:\n",
    "            eval_scores = [self.evaluator.evaluate_relevance(query, doc.page_content) for doc in retrieved_docs]\n",
    "            max_score = max(eval_scores)\n",
    "\n",
    "            if max_score > 0.7:\n",
    "                best_doc = retrieved_docs[eval_scores.index(max_score)]\n",
    "                final_knowledge = best_doc.page_content\n",
    "                sources = [(\"Retrieved document\", \"\")]\n",
    "            elif max_score < 0.3:\n",
    "                final_knowledge, sources = self.web_searcher.search_and_refine(query)\n",
    "            else:\n",
    "                best_doc = retrieved_docs[eval_scores.index(max_score)]\n",
    "                retrieved_knowledge = KnowledgeRefiner(self.llm).refine(best_doc.page_content)\n",
    "                web_knowledge, web_sources = self.web_searcher.search_and_refine(query)\n",
    "                final_knowledge = \"\\n\".join(retrieved_knowledge + web_knowledge)\n",
    "                sources = [(\"Retrieved document\", \"\")] + web_sources\n",
    "        else:\n",
    "            final_knowledge = retrieved_docs[0].page_content\n",
    "            sources = [(\"Retrieved document\", \"\")]\n",
    "\n",
    "        response = ResponseGenerator(self.llm).generate(query, final_knowledge, sources)\n",
    "        return response"
   ]
  },
  {
   "cell_type": "code",
   "execution_count": 17,
   "metadata": {},
   "outputs": [],
   "source": [
    "#df = pd.read_csv('/home/aragy/Huma.ai-assessment/Dataset/cleaned_dataset.csv')\n",
    "df = pd.read_csv('/home/aragy/HumaAI/Huma.ai-assessment/Dataset/cleaned_dataset.csv')\n",
    "documents = [row['question'] + ' ' + row['answer_solution'] for _, row in df.iterrows()]\n",
    "\n",
    "retriever = DocumentRetriever(documents, documents)\n"
   ]
  },
  {
   "cell_type": "code",
   "execution_count": 18,
   "metadata": {},
   "outputs": [
    {
     "data": {
      "text/plain": [
       "[Document(metadata={'source': 1}, page_content='What are the common side effects of Keytruda? Common side effects include fatigue, nausea, and skin rash.'),\n",
       " Document(metadata={'source': 1}, page_content='Can Keytruda cause immune-related adverse effects? Yes, Keytruda can cause immune-related adverse effects such as colitis, hepatitis, and pneumonitis.'),\n",
       " Document(metadata={'source': 1}, page_content='What were the side effects noted in the KEYNOTE-006 trial? Common side effects included fatigue, itching, and diarrhea.'),\n",
       " Document(metadata={'source': 2}, page_content='Are there specific side effects of Keytruda that NSCLC patients should monitor? NSCLC patients should monitor for cough, shortness of breath, and chest pain, as these could indicate immune-related pneumonitis.'),\n",
       " Document(metadata={'source': 2}, page_content='What should patients report immediately while on Keytruda treatment? Patients should report any new or worsening symptoms such as cough, chest pain, or changes in vision immediately.'),\n",
       " Document(metadata={'source': 1}, page_content=\"How does Keytruda's effectiveness in NSCLC compare between smokers and non-smokers in KEYNOTE-051? The effectiveness was slightly higher in non-smokers, although significant benefits were still observed in smokers.\"),\n",
       " Document(metadata={'source': 1}, page_content='What was the impact of Keytruda on quality of life for NSCLC patients in KEYNOTE-123? Keytruda improved the quality of life by reducing symptoms related to NSCLC and decreasing the side effects typically associated with chemotherapy.'),\n",
       " Document(metadata={'source': 2}, page_content='How do healthcare providers educate patients about the benefits and risks of Keytruda? Healthcare providers offer educational materials, detailed consultations, and regular follow-up to discuss treatment progress and side effects.')]"
      ]
     },
     "execution_count": 18,
     "metadata": {},
     "output_type": "execute_result"
    }
   ],
   "source": [
    "retriever.retrieve(\"What are the Keytruda's side effects?\")"
   ]
  },
  {
   "cell_type": "code",
   "execution_count": 19,
   "metadata": {},
   "outputs": [],
   "source": [
    "llm = ChatOpenAI(model=\"gpt-4o-mini\", max_tokens=1000, temperature=0)\n",
    "evaluator = Evaluator(llm)\n",
    "web_searcher = WebSearcher(llm)"
   ]
  },
  {
   "cell_type": "markdown",
   "metadata": {},
   "source": [
    "# Section 3: Integrating the Generation Component\n",
    "\n",
    "In this section, I integrate generative language models into the retrieval system to provide detailed and contextual answers based on the retrieved documents. I tested three advanced models: gpt-4o-mini, claude-3.5-sonnet, and gemini-1.5-flash.\n",
    "\n",
    "-Integration of Multiple Generative Models\n",
    "- Models Used:\n",
    "\n",
    "    1. gpt-4o-mini (ChatOpenAI)\n",
    "    2. claude-3.5-sonnet (ChatAnthropic)\n",
    "    3. gemini-1.5-flash (ChatGoogleGenerativeAI)\n",
    "\n",
    "- Justification for Model Selection:\n",
    "\n",
    "    - Diversity of Capabilities: By integrating multiple models, we aim to leverage the unique strengths of each model, enhancing the system's overall performance.\n",
    "        - gpt-4o-mini:\n",
    "            - Strengths: Known for its advanced language understanding and ability to generate coherent and contextually relevant responses.\n",
    "            - Use Case: Serves as a reliable baseline for comparison and is efficient in handling a wide range of queries.\n",
    "        - claude-3.5-sonnet:\n",
    "            - Strengths: Excels in generating detailed and accurate responses, particularly in complex or nuanced queries.\n",
    "            - Use Case: Valuable for critical queries requiring high precision and depth.\n",
    "        - gemini-1.5-flash:\n",
    "            - Strengths: Offers rapid response times and is optimized for speed.\n",
    "            - Use Case: Suitable for scenarios where quick responses are essential, albeit with a potential trade-off in depth.\n",
    "\n",
    "- Process of Integration:\n",
    "\n",
    "    - Evaluator and WebSearcher Instances: For each model, we created separate instances of the evaluator and web searcher to assess document relevance and perform web searches when necessary.\n",
    "\n",
    "    - QueryProcessor Class: We instantiated the QueryProcessor class for each model, orchestrating the retrieval and generation process tailored to the specific capabilities of each model.\n",
    "\n"
   ]
  },
  {
   "cell_type": "markdown",
   "metadata": {},
   "source": [
    "### GPT 4o mini"
   ]
  },
  {
   "cell_type": "code",
   "execution_count": 20,
   "metadata": {},
   "outputs": [],
   "source": [
    "llm_gpt = ChatOpenAI(model=\"gpt-4o-mini\", max_tokens=1000, temperature=0)"
   ]
  },
  {
   "cell_type": "code",
   "execution_count": 21,
   "metadata": {},
   "outputs": [],
   "source": [
    "\n",
    "evaluator = Evaluator(llm_gpt)\n",
    "web_searcher = WebSearcher(llm_gpt)\n",
    "processor_gpt = QueryProcessor(retriever, evaluator, web_searcher, llm_gpt)"
   ]
  },
  {
   "cell_type": "code",
   "execution_count": 21,
   "metadata": {},
   "outputs": [
    {
     "name": "stdout",
     "output_type": "stream",
     "text": [
      "Keytruda (pembrolizumab) is an immunotherapy drug used to treat various types of cancer. Common side effects of Keytruda include:\n",
      "\n",
      "- Fatigue\n",
      "- Nausea\n",
      "- Skin rash\n",
      "\n",
      "These side effects can vary in intensity and may not occur in every patient. It's important for patients to discuss any side effects they experience with their healthcare provider.\n",
      "\n",
      "Sources: Retrieved document.\n"
     ]
    }
   ],
   "source": [
    "response = processor_gpt.process(\"What are the Keytruda's side effects?\")\n",
    "print(response)"
   ]
  },
  {
   "cell_type": "code",
   "execution_count": 22,
   "metadata": {},
   "outputs": [
    {
     "name": "stdout",
     "output_type": "stream",
     "text": [
      "Keytruda (pembrolizumab) is an immunotherapy medication primarily indicated for the treatment of various types of cancer, including:\n",
      "\n",
      "1. **Non-small cell lung cancer (NSCLC)** - It is particularly effective in patients with PD-L1 expression, significantly improving survival rates.\n",
      "2. **Melanoma**\n",
      "3. **Head and neck squamous cell cancer (HNSCC)**\n",
      "4. **Classical Hodgkin Lymphoma**\n",
      "5. **Endometrial carcinoma**\n",
      "6. **Triple-negative breast cancer**\n",
      "\n",
      "Keytruda functions as a checkpoint inhibitor, enhancing the immune system's ability to fight cancer. It is intended for long-term treatment, with recommended dosages of 200 mg once every 3 weeks or 400 mg once every 6 weeks. Treatment effectiveness is monitored through imaging, blood tests, and laboratory tests.\n",
      "\n",
      "For more detailed information, you can refer to the following sources:\n",
      "- [Drugs.com - Keytruda: Uses, Dosage, Side Effects, Warnings](https://www.drugs.com/keytruda.html)\n",
      "- [Medical News Today - Keytruda (pembrolizumab): Side effects, uses, cost, and more](https://www.medicalnewstoday.com/articles/keytruda)\n",
      "- [Healthline - Signs That Keytruda Is Working: Test Results and More](https://www.healthline.com/health/drugs/signs-keytruda-is-working)\n",
      "- [Drugs.com - Keytruda: 7 things you should know](https://www.drugs.com/tips/keytruda-patient-tips)\n"
     ]
    }
   ],
   "source": [
    "response = processor_gpt.process(\"What is the indication for using Keytruda?\")\n",
    "print(response)"
   ]
  },
  {
   "cell_type": "code",
   "execution_count": 23,
   "metadata": {},
   "outputs": [
    {
     "name": "stdout",
     "output_type": "stream",
     "text": [
      "Keytruda (pembrolizumab) has shown significant effectiveness in promoting cancer remission, particularly in specific types of cancer such as non-small cell lung cancer (NSCLC) and muscle-invasive urothelial carcinoma (MIUC). \n",
      "\n",
      "1. **Non-Small Cell Lung Cancer (NSCLC)**: Keytruda is particularly effective in patients with high PD-L1 expression, leading to improved survival rates. The use of PD-1 immune checkpoint inhibitors like Keytruda has been associated with prolonged overall survival (OS) in various cancer patients.\n",
      "\n",
      "2. **Muscle-Invasive Urothelial Carcinoma (MIUC)**: In patients with high-risk MIUC, adjuvant treatment with Keytruda has resulted in improved disease-free survival (DFS) compared to observation alone after surgery. This suggests that Keytruda can significantly enhance remission rates in this patient population.\n",
      "\n",
      "3. **General Effectiveness**: The effectiveness of Keytruda can vary based on the type of cancer, its stage, and the patient's previous treatments. It has been used in approximately 2.5 million patients and is involved in numerous clinical studies, indicating its widespread application and ongoing research into its efficacy.\n",
      "\n",
      "4. **Clear-Cell Renal Cell Carcinoma**: Keytruda has also been shown to be effective in treating clear-cell renal cell carcinoma, supported by large clinical trial results.\n",
      "\n",
      "Overall, while the success rate of Keytruda can differ based on individual circumstances, its role in improving remission and survival rates in various cancers is well-documented.\n",
      "\n",
      "**Sources**:\n",
      "- [What is the success rate of Keytruda? - Drugs.com](https://www.drugs.com/medical-answers/success-rate-keytruda-3555529/)\n",
      "- [Keytruda Improves Disease-Free Survival in Some With Urothelial Carcinoma](https://www.curetoday.com/view/keytruda-improves-disease-free-survival-in-some-with-urothelial-carcinoma)\n",
      "- [A decade of cancer immunotherapy: Keytruda, Opdivo and the drugs that ...](https://www.biopharmadive.com/news/cancer-immunotherapy-decade-keytruda-opdivo-pd1-oncology/725774/)\n",
      "- [Adjuvant Keytruda Improves Kidney Cancer Survival - NCI](https://www.cancer.gov/news-events/cancer-currents-blog/2024/kidney-cancer-pembrolizumab-increases-survival)\n"
     ]
    }
   ],
   "source": [
    "response = processor_gpt.process(\"How Keytruda perform in cancer remission?\")\n",
    "print(response)"
   ]
  },
  {
   "cell_type": "markdown",
   "metadata": {},
   "source": [
    "### Claude 3.5 sonnet"
   ]
  },
  {
   "cell_type": "code",
   "execution_count": 22,
   "metadata": {},
   "outputs": [],
   "source": [
    "llm_claude = ChatAnthropic(temperature=0, model_name='claude-3-5-sonnet-20240620')"
   ]
  },
  {
   "cell_type": "code",
   "execution_count": 23,
   "metadata": {},
   "outputs": [],
   "source": [
    "evaluator_claude = Evaluator(llm_claude)\n",
    "web_searcher_claude = WebSearcher(llm_claude)\n",
    "processor_claude = QueryProcessor(retriever, evaluator_claude, web_searcher_claude, llm_claude)"
   ]
  },
  {
   "cell_type": "code",
   "execution_count": 58,
   "metadata": {},
   "outputs": [
    {
     "name": "stdout",
     "output_type": "stream",
     "text": [
      "Based on the provided knowledge, the common side effects of Keytruda include:\n",
      "\n",
      "1. Fatigue\n",
      "2. Nausea\n",
      "3. Skin rash\n",
      "\n",
      "It's important to note that these are just the common side effects, and individual experiences may vary. Patients should always consult their healthcare provider for a comprehensive list of potential side effects and to discuss any concerns they may have about their treatment.\n",
      "\n",
      "Source:\n",
      "Retrieved document (no link available)\n"
     ]
    }
   ],
   "source": [
    "response = processor_claude.process(\"What are the Keytruda's side effects?\")\n",
    "print(response)"
   ]
  },
  {
   "cell_type": "code",
   "execution_count": 59,
   "metadata": {},
   "outputs": [
    {
     "name": "stdout",
     "output_type": "stream",
     "text": [
      "Based on the provided knowledge, Keytruda (pembrolizumab) is indicated for the treatment of various types of cancer, including:\n",
      "\n",
      "1. Non-small cell lung cancer, particularly in patients with PD-L1 expression\n",
      "2. Melanoma (skin cancer)\n",
      "3. Adenocarcinomas\n",
      "4. Endometrial carcinoma\n",
      "5. Triple-negative breast cancer\n",
      "\n",
      "Keytruda is an immunotherapy treatment classified as a checkpoint inhibitor. It works by helping the immune system fight cancer cells. The treatment has shown significant improvement in survival rates, especially for non-small cell lung cancer patients.\n",
      "\n",
      "It's important to note that Keytruda is intended for long-term treatment, and its use is continuously being evaluated in numerous clinical trials for various cancers. Since its initial approval in September 2014, at least 20 new indications have been approved, and ongoing investigational studies are exploring new uses for pembrolizumab.\n",
      "\n",
      "Sources:\n",
      "1. Keytruda: Uses, Dosage, Side Effects, Warnings - Drugs.com: https://www.drugs.com/keytruda.html\n",
      "2. Keytruda (pembrolizumab): Side effects, uses, cost, and more: https://www.medicalnewstoday.com/articles/keytruda\n",
      "3. What type of cancer is pembrolizumab used for? - Drugs.com: https://www.drugs.com/medical-answers/type-cancer-pembrolizumab-3553698/\n",
      "4. Keytruda: 7 things you should know - Drugs.com: https://www.drugs.com/tips/keytruda-patient-tips\n"
     ]
    }
   ],
   "source": [
    "response = processor_claude.process(\"What is the indication for using Keytruda?\")\n",
    "print(response)"
   ]
  },
  {
   "cell_type": "code",
   "execution_count": 60,
   "metadata": {},
   "outputs": [
    {
     "name": "stdout",
     "output_type": "stream",
     "text": [
      "Based on the provided knowledge, I cannot directly answer how Keytruda performs in cancer remission. The information given is specifically about Keytruda's effectiveness in treating non-small cell lung cancer, not about its performance in cancer remission.\n",
      "\n",
      "However, I can share what is provided:\n",
      "\n",
      "Keytruda has demonstrated significant improvement in survival rates for patients with non-small cell lung cancer who have PD-L1 expression. This suggests that Keytruda is effective in treating this specific type of cancer, but it does not provide information about cancer remission in general or for other types of cancer.\n",
      "\n",
      "To accurately answer the query about Keytruda's performance in cancer remission, more specific and relevant information would be needed.\n",
      "\n",
      "Source:\n",
      "Retrieved document (no link available)\n"
     ]
    }
   ],
   "source": [
    "response = processor_claude.process(\"How Keytruda perform in cancer remission?\")\n",
    "print(response)"
   ]
  },
  {
   "cell_type": "markdown",
   "metadata": {},
   "source": [
    "### Gemini"
   ]
  },
  {
   "cell_type": "code",
   "execution_count": 24,
   "metadata": {},
   "outputs": [],
   "source": [
    "llm_gemini = ChatGoogleGenerativeAI(model=\"gemini-1.5-flash\", temperature=0,)"
   ]
  },
  {
   "cell_type": "code",
   "execution_count": 25,
   "metadata": {},
   "outputs": [],
   "source": [
    "evaluator_gemini = Evaluator(llm_gemini)\n",
    "web_searcher_gemini = WebSearcher(llm_gemini)\n",
    "processor_gemini = QueryProcessor(retriever, evaluator_gemini, web_searcher_gemini, llm_gemini)"
   ]
  },
  {
   "cell_type": "code",
   "execution_count": 26,
   "metadata": {},
   "outputs": [
    {
     "name": "stdout",
     "output_type": "stream",
     "text": [
      "Keytruda's common side effects include fatigue, nausea, and skin rash. \n",
      "\n",
      "**Source:** Retrieved document \n",
      "\n"
     ]
    }
   ],
   "source": [
    "response = processor_gemini.process(\"What are the Keytruda's side effects?\")\n",
    "print(response)"
   ]
  },
  {
   "cell_type": "code",
   "execution_count": 42,
   "metadata": {},
   "outputs": [
    {
     "name": "stdout",
     "output_type": "stream",
     "text": [
      "Keytruda is indicated for the treatment of relapsed or refractory classical Hodgkin lymphoma after two or more lines of therapy. \n",
      "\n",
      "**Source:** Retrieved document \n",
      "\n"
     ]
    }
   ],
   "source": [
    "response = processor_gemini.process(\"What is the indication for using Keytruda?\")\n",
    "print(response)"
   ]
  },
  {
   "cell_type": "code",
   "execution_count": 43,
   "metadata": {},
   "outputs": [
    {
     "name": "stdout",
     "output_type": "stream",
     "text": [
      "Keytruda demonstrated superior efficacy compared to chemotherapy in NSCLC patients in the KEYNOTE-456 trial. This superiority was observed in terms of overall survival and progression-free survival. \n",
      "\n",
      "**Source:** Retrieved document \n",
      "\n"
     ]
    }
   ],
   "source": [
    "response = processor_gemini.process(\"How Keytruda perform in cancer remission?\")\n",
    "print(response)"
   ]
  },
  {
   "cell_type": "markdown",
   "metadata": {},
   "source": [
    "### Challenges and Solutions:\n",
    "\n",
    "- Model-Specific Limitations:\n",
    "    - Challenge: Each model has its own limitations in terms of response quality, depth, and accuracy.\n",
    "    - Solution: By testing all three models, we identified the strengths and weaknesses of each, allowing us to select the most appropriate model based on the specific query and context.\n",
    "\n",
    "- Consistency Across Models:\n",
    "    - Challenge: Ensuring consistent formatting and information across different models can be difficult due to variations in output styles.\n",
    "    - Solution: Standardized the prompts and post-processing steps to harmonize the responses as much as possible.\n",
    "\n",
    "- Integration Complexity:\n",
    "    - Challenge: Integrating multiple models increases the complexity of the system.\n",
    "    - Solution: Encapsulated model-specific logic within dedicated classes and maintained a consistent interface for the QueryProcessor, simplifying the overall integration.\n",
    "\n",
    "- Comparative Analysis:\n",
    "\n",
    "    - Accuracy and Detail:\n",
    "        - gpt-4o-mini and claude-3.5-sonnet provided more detailed responses, with claude-3.5-sonnet often offering slightly more elaboration.\n",
    "        - gemini-1.5-flash tended to give concise answers, which may lack depth but are quicker to read.\n",
    "\n",
    "    - Response Time:\n",
    "        - gemini-1.5-flash was designed for speed but, in practice, had longer response times due to API limitations.\n",
    "        - gpt-4o-mini offered a good balance between speed and detail.\n",
    "        - claude-3.5-sonnet had moderate response times but excelled in accuracy.\n",
    "\n",
    "    - Use Case Suitability:\n",
    "        - gpt-4o-mini: Suitable for general queries requiring balanced performance.\n",
    "        - claude-3.5-sonnet: Preferred for complex queries where accuracy is paramount.\n",
    "        - gemini-1.5-flash: Appropriate for situations where brevity is acceptable.\n",
    "\n",
    "- Justification:\n",
    "\n",
    "    - Comprehensive Evaluation: Testing all three models allowed us to assess their performance in the context of our RAG system and select the best fit for different scenarios.\n",
    "\n",
    "    - Optimizing User Experience: By understanding the nuances of each model, we can route queries to the model that will provide the most accurate and useful response, enhancing overall user satisfaction.\n",
    "\n",
    "### Conclusion:\n",
    "\n",
    "Integrating multiple generative models into the RAG system provided valuable insights into their respective capabilities. This approach enabled us to leverage the strengths of each model and address their weaknesses, ultimately leading to a more robust and flexible system capable of delivering high-quality answers across a variety of medical queries."
   ]
  },
  {
   "cell_type": "markdown",
   "metadata": {},
   "source": [
    "# Section 4: Evaluation and Optimization"
   ]
  },
  {
   "cell_type": "markdown",
   "metadata": {},
   "source": [
    "In this section, I evaluate the performance of the RAG system using specific metrics and optimize it based on the results.\n",
    "\n",
    "1. Correctness:\n",
    "\n",
    "    * This metric measures how factually accurate the generated output is compared to the ground truth. It reflects the system's ability to provide the correct information in response to the question.\n",
    "    * Since the system deals with medical data (Keytruda), factual correctness is crucial. Errors in drug interactions, survival rates, or side effects could lead to significant consequences in real-world applications.\n",
    "\n",
    "2. Faithfulness:\n",
    "\n",
    "    * Faithfulness checks whether the generated response aligns with the retrieved documents. It ensures that the system does not hallucinate or introduce information that was not present in the retrieval phase.\n",
    "    * This metric ensures that the system remains grounded in the retrieved documents, avoiding the creation of content that wasn't found in the original sources, which is particularly important in critical domains like healthcare.\n",
    "\n",
    "3. Contextual Relevancy:\n",
    "\n",
    "    * This metric measures how well the generated output matches the context retrieved. It checks whether the system is selecting the most relevant content from the retrieved information.\n",
    "    * Even if the answer is factually correct, it is essential to ensure that the response is relevant to the specific question being asked. A high relevancy score indicates that the system focuses on the right content from the retrieved documents.\n",
    "\n",
    "4. Response Time:\n",
    "\n",
    "    * This measures the average time it takes for each model to generate a response.\n",
    "    * In a real-world application, response time is critical, especially in healthcare-related scenarios where rapid answers may be necessary. The evaluation of processing time helps us compare the efficiency of different models.\n",
    "\n",
    "5. Cost:\n",
    "\n",
    "    * The cost metric evaluates the financial cost associated with using each model based on the number of tokens processed (input and output).\n",
    "    * Cost-effectiveness is an important factor, particularly when scaling the system for frequent usage. Knowing the cost per model allows for informed decisions on model selection based on budget constraints."
   ]
  },
  {
   "cell_type": "markdown",
   "metadata": {},
   "source": [
    "## Test Preparation"
   ]
  },
  {
   "cell_type": "code",
   "execution_count": 27,
   "metadata": {},
   "outputs": [],
   "source": [
    "class TestScenario:\n",
    "    def __init__(self, question: str, gt_answer: str, retrieval_context: List[str], ):\n",
    "        self.question = question\n",
    "        self.gt_answer = gt_answer\n",
    "        self.retrieval_context = retrieval_context        \n",
    "        self.pred_answer = None\n",
    "\n",
    "    def run(self, processor:QueryProcessor):\n",
    "\n",
    "        self.pred_answer = processor.process(self.question)\n",
    "\n",
    "        test_case_combined = LLMTestCase(\n",
    "            input=self.question,\n",
    "            expected_output=self.gt_answer,\n",
    "            actual_output=self.pred_answer,\n",
    "            retrieval_context=self.retrieval_context,\n",
    "        )\n",
    "        return test_case_combined"
   ]
  },
  {
   "cell_type": "code",
   "execution_count": 28,
   "metadata": {},
   "outputs": [],
   "source": [
    "class MetricsEvaluator:\n",
    "    def __init__(self,model_name:str) -> None:\n",
    "        self.model_name = model_name\n",
    "        self.correctness_metric = GEval(\n",
    "            name=\"Correctness\",\n",
    "            model=model_name,\n",
    "            evaluation_params=[\n",
    "                LLMTestCaseParams.EXPECTED_OUTPUT,\n",
    "                LLMTestCaseParams.ACTUAL_OUTPUT],\n",
    "            evaluation_steps=[\n",
    "                \"Determine whether the actual output is factually correct based on the expected output.\"\n",
    "            ],\n",
    "        )\n",
    "        self.faithfulness_metric = FaithfulnessMetric(\n",
    "            threshold=0.7,\n",
    "            model=model_name,\n",
    "            include_reason=True\n",
    "        )\n",
    "        self.relevance_metric = ContextualRelevancyMetric(\n",
    "            threshold=1,\n",
    "            model=model_name,\n",
    "            include_reason=True\n",
    "        )\n"
   ]
  },
  {
   "cell_type": "code",
   "execution_count": 29,
   "metadata": {},
   "outputs": [],
   "source": [
    "class TestRunner:\n",
    "    def __init__(self, metrics_evaluator:MetricsEvaluator):\n",
    "        self.metrics_evaluator = metrics_evaluator\n",
    "\n",
    "    def run_test(self, test_case: LLMTestCase):\n",
    "\n",
    "        self.metrics_evaluator.correctness_metric.measure(test_case)\n",
    "        self.metrics_evaluator.faithfulness_metric.measure(test_case)\n",
    "        self.metrics_evaluator.relevance_metric.measure(test_case)\n",
    "\n",
    "        print(f\"Correctness Score: {self.metrics_evaluator.correctness_metric.score}\")\n",
    "        print(f\"Faithfulness Score: {self.metrics_evaluator.faithfulness_metric.score}\")\n",
    "        print(f\"Contextual Relevancy Score: {self.metrics_evaluator.relevance_metric.score}\")"
   ]
  },
  {
   "cell_type": "markdown",
   "metadata": {},
   "source": [
    "## Scenarios"
   ]
  },
  {
   "cell_type": "markdown",
   "metadata": {},
   "source": [
    "### 1. Keytruda efficacy and drug interactions\n",
    "\n",
    "* **Question**: \"Are there any known interactions between Keytruda and other medications?\"\n",
    "* **Ground Truth** : \"Yes, Keytruda can interact with steroids and certain immunosuppressants, potentially affecting its efficacy and safety.\"\n",
    "* **Context**: Includes documents on Keytruda side effects, effectiveness, and interactions."
   ]
  },
  {
   "cell_type": "code",
   "execution_count": 30,
   "metadata": {},
   "outputs": [],
   "source": [
    "question = \"Are there any known interactions between Keytruda and other medications?\"\n",
    "gt_answer = \"Yes, Keytruda can interact with steroids and certain immunosuppressants, potentially affecting its efficacy and safety.\"\n",
    "\n",
    "retrieval_context = [\n",
    "    \"Keytruda has interactions with steroids\",\n",
    "    \"Keytruda is commonly used with other immunosuppressants\"\n",
    "]\n",
    "\n",
    "scenario_1 = TestScenario(question=question, gt_answer=gt_answer, retrieval_context=retrieval_context)\n"
   ]
  },
  {
   "cell_type": "markdown",
   "metadata": {},
   "source": [
    "### 2. **Five-Year Survival Rate with Keytruda**\n",
    "\n",
    "* **Question**: \"What is the five-year survival rate for patients using Keytruda for lung cancer?\"\n",
    "* **Ground Truth**: \"No detailed information available on the given topic.\"\n",
    "* **Context**: Documents related to survival rates, but lacking detailed data for five-year outcomes.\n"
   ]
  },
  {
   "cell_type": "code",
   "execution_count": 31,
   "metadata": {},
   "outputs": [],
   "source": [
    "question = \"What is the five-year survival rate for patients using Keytruda for lung cancer?\"\n",
    "gt_answer = \"No detailed information available on the given topic.\"\n",
    "\n",
    "retrieval_context = [\n",
    "    \"No detailed information available on the given topic.\",\n",
    "    \"Keytruda has improved survival rates, but specific five-year data may not be available.\"\n",
    "]\n",
    "\n",
    "scenario_2 = TestScenario(question=question, gt_answer=gt_answer, retrieval_context=retrieval_context)\n"
   ]
  },
  {
   "cell_type": "markdown",
   "metadata": {},
   "source": [
    "### 3. Common Side Effects of Keytruda\n",
    "\n",
    "* **Question**: \"What are the common side effects of Keytruda?\"\n",
    "* **Ground Truth**: \"Common side effects include fatigue, nausea, and skin rash.\"\n",
    "* **Context**: Medical literature on Keytruda's side effects."
   ]
  },
  {
   "cell_type": "code",
   "execution_count": 32,
   "metadata": {},
   "outputs": [],
   "source": [
    "question = \"What are the common side effects of Keytruda?\"\n",
    "gt_answer = \"Common side effects include fatigue, nausea, and skin rash.\"\n",
    "\n",
    "retrieval_context = [\n",
    "    \"Common side effects include fatigue, nausea, and skin rash.\",\n",
    "    \"Patients should report any severe or unexpected side effects to their healthcare provider.\"\n",
    "]\n",
    "\n",
    "scenario_3 = TestScenario(question=question, gt_answer=gt_answer, retrieval_context=retrieval_context)\n"
   ]
  },
  {
   "cell_type": "markdown",
   "metadata": {},
   "source": [
    "### 4. **Efficacy of Keytruda in NSCLC Patients**\n",
    "\n",
    "* **Question**: \"How effective is Keytruda in treating non-small cell lung cancer (NSCLC)?\"\n",
    "* **Ground Truth**: \"Keytruda has shown to improve survival rates significantly in non-small cell lung cancer patients with PD-L1 expression.\"\n",
    "* **Context**: Studies on the effectiveness of Keytruda in NSCLC treatment."
   ]
  },
  {
   "cell_type": "code",
   "execution_count": 33,
   "metadata": {},
   "outputs": [],
   "source": [
    "question = \"How effective is Keytruda in treating non-small cell lung cancer (NSCLC)?\"\n",
    "gt_answer = \"Keytruda has shown to improve survival rates significantly in non-small cell lung cancer patients with PD-L1 expression.\"\n",
    "\n",
    "retrieval_context = [\n",
    "    \"Keytruda has shown to improve survival rates significantly in non-small cell lung cancer patients with PD-L1 expression.\",\n",
    "    \"Some patients may see effects as early as 2 to 3 months into the treatment.\"\n",
    "]\n",
    "\n",
    "scenario_4 = TestScenario(question=question, gt_answer=gt_answer, retrieval_context=retrieval_context)\n"
   ]
  },
  {
   "cell_type": "markdown",
   "metadata": {},
   "source": [
    "### 5. **Response Rate in Melanoma Patients Treated with Keytruda**\n",
    "\n",
    "* **Question**: \"What is the response rate of melanoma patients treated with Keytruda?\"\n",
    "* **Ground Truth**: \"Approximately 40% of melanoma patients respond positively to Keytruda treatment.\"\n",
    "* **Context**: Documents on Keytruda's efficacy in melanoma treatment."
   ]
  },
  {
   "cell_type": "code",
   "execution_count": 34,
   "metadata": {},
   "outputs": [],
   "source": [
    "question = \"What is the response rate of melanoma patients treated with Keytruda?\"\n",
    "gt_answer = \"Approximately 40% of melanoma patients respond positively to Keytruda treatment.\"\n",
    "\n",
    "retrieval_context = [\n",
    "    \"Approximately 40% of melanoma patients respond positively to Keytruda treatment.\",\n",
    "    \"Response rates may vary based on individual patient factors.\"\n",
    "]\n",
    "\n",
    "scenario_5 = TestScenario(question=question, gt_answer=gt_answer, retrieval_context=retrieval_context)\n"
   ]
  },
  {
   "cell_type": "markdown",
   "metadata": {},
   "source": [
    "### Run Test"
   ]
  },
  {
   "cell_type": "code",
   "execution_count": 35,
   "metadata": {},
   "outputs": [],
   "source": [
    "model_name_gpt = \"gpt-4o-mini\""
   ]
  },
  {
   "cell_type": "code",
   "execution_count": 36,
   "metadata": {},
   "outputs": [],
   "source": [
    "test_scenarios = [scenario_1, scenario_2, scenario_3, scenario_4, scenario_5]"
   ]
  },
  {
   "cell_type": "code",
   "execution_count": 37,
   "metadata": {},
   "outputs": [],
   "source": [
    "model_evaluator= MetricsEvaluator(model_name=model_name_gpt)"
   ]
  },
  {
   "cell_type": "code",
   "execution_count": 38,
   "metadata": {},
   "outputs": [],
   "source": [
    "test_runner = TestRunner(model_evaluator)"
   ]
  },
  {
   "cell_type": "code",
   "execution_count": 41,
   "metadata": {},
   "outputs": [],
   "source": [
    "import time"
   ]
  },
  {
   "cell_type": "markdown",
   "metadata": {},
   "source": [
    "### Testing GPT"
   ]
  },
  {
   "cell_type": "code",
   "execution_count": 42,
   "metadata": {},
   "outputs": [
    {
     "name": "stdout",
     "output_type": "stream",
     "text": [
      "Testing processor GPT-4o-mini\n",
      "Scenario 1\n",
      "Question:Are there any known interactions between Keytruda and other medications?\n",
      "Ground Thruth:Yes, Keytruda can interact with steroids and certain immunosuppressants, potentially affecting its efficacy and safety.\n"
     ]
    },
    {
     "data": {
      "application/vnd.jupyter.widget-view+json": {
       "model_id": "d4e4924f9d604affabb47bb2216d4313",
       "version_major": 2,
       "version_minor": 0
      },
      "text/plain": [
       "Output()"
      ]
     },
     "metadata": {},
     "output_type": "display_data"
    },
    {
     "data": {
      "text/html": [
       "<pre style=\"white-space:pre;overflow-x:auto;line-height:normal;font-family:Menlo,'DejaVu Sans Mono',consolas,'Courier New',monospace\">Event loop is already running. Applying nest_asyncio patch to allow async execution...\n",
       "</pre>\n"
      ],
      "text/plain": [
       "Event loop is already running. Applying nest_asyncio patch to allow async execution...\n"
      ]
     },
     "metadata": {},
     "output_type": "display_data"
    },
    {
     "data": {
      "text/html": [
       "<pre style=\"white-space:pre;overflow-x:auto;line-height:normal;font-family:Menlo,'DejaVu Sans Mono',consolas,'Courier New',monospace\"></pre>\n"
      ],
      "text/plain": []
     },
     "metadata": {},
     "output_type": "display_data"
    },
    {
     "data": {
      "application/vnd.jupyter.widget-view+json": {
       "model_id": "c13b4387957d4f04930ac3dd69e87ac3",
       "version_major": 2,
       "version_minor": 0
      },
      "text/plain": [
       "Output()"
      ]
     },
     "metadata": {},
     "output_type": "display_data"
    },
    {
     "data": {
      "text/html": [
       "<pre style=\"white-space:pre;overflow-x:auto;line-height:normal;font-family:Menlo,'DejaVu Sans Mono',consolas,'Courier New',monospace\">Event loop is already running. Applying nest_asyncio patch to allow async execution...\n",
       "</pre>\n"
      ],
      "text/plain": [
       "Event loop is already running. Applying nest_asyncio patch to allow async execution...\n"
      ]
     },
     "metadata": {},
     "output_type": "display_data"
    },
    {
     "data": {
      "text/html": [
       "<pre style=\"white-space:pre;overflow-x:auto;line-height:normal;font-family:Menlo,'DejaVu Sans Mono',consolas,'Courier New',monospace\"></pre>\n"
      ],
      "text/plain": []
     },
     "metadata": {},
     "output_type": "display_data"
    },
    {
     "data": {
      "application/vnd.jupyter.widget-view+json": {
       "model_id": "86b5be5bdc4f44e2839b0dc41ea3326e",
       "version_major": 2,
       "version_minor": 0
      },
      "text/plain": [
       "Output()"
      ]
     },
     "metadata": {},
     "output_type": "display_data"
    },
    {
     "data": {
      "text/html": [
       "<pre style=\"white-space:pre;overflow-x:auto;line-height:normal;font-family:Menlo,'DejaVu Sans Mono',consolas,'Courier New',monospace\">Event loop is already running. Applying nest_asyncio patch to allow async execution...\n",
       "</pre>\n"
      ],
      "text/plain": [
       "Event loop is already running. Applying nest_asyncio patch to allow async execution...\n"
      ]
     },
     "metadata": {},
     "output_type": "display_data"
    },
    {
     "data": {
      "text/html": [
       "<pre style=\"white-space:pre;overflow-x:auto;line-height:normal;font-family:Menlo,'DejaVu Sans Mono',consolas,'Courier New',monospace\"></pre>\n"
      ],
      "text/plain": []
     },
     "metadata": {},
     "output_type": "display_data"
    },
    {
     "name": "stdout",
     "output_type": "stream",
     "text": [
      "Correctness Score: 0.9977022633008398\n",
      "Faithfulness Score: 1.0\n",
      "Contextual Relevancy Score: 0.5\n",
      "------------------------------------\n",
      "\n",
      "\n",
      "Scenario 2\n",
      "Question:What is the five-year survival rate for patients using Keytruda for lung cancer?\n",
      "Ground Thruth:No detailed information available on the given topic.\n"
     ]
    },
    {
     "data": {
      "application/vnd.jupyter.widget-view+json": {
       "model_id": "fe45ac7921004f9f91e23ab2df9271c4",
       "version_major": 2,
       "version_minor": 0
      },
      "text/plain": [
       "Output()"
      ]
     },
     "metadata": {},
     "output_type": "display_data"
    },
    {
     "data": {
      "text/html": [
       "<pre style=\"white-space:pre;overflow-x:auto;line-height:normal;font-family:Menlo,'DejaVu Sans Mono',consolas,'Courier New',monospace\">Event loop is already running. Applying nest_asyncio patch to allow async execution...\n",
       "</pre>\n"
      ],
      "text/plain": [
       "Event loop is already running. Applying nest_asyncio patch to allow async execution...\n"
      ]
     },
     "metadata": {},
     "output_type": "display_data"
    },
    {
     "data": {
      "text/html": [
       "<pre style=\"white-space:pre;overflow-x:auto;line-height:normal;font-family:Menlo,'DejaVu Sans Mono',consolas,'Courier New',monospace\"></pre>\n"
      ],
      "text/plain": []
     },
     "metadata": {},
     "output_type": "display_data"
    },
    {
     "data": {
      "application/vnd.jupyter.widget-view+json": {
       "model_id": "9a3ba732acf04f91bb16809da945b3ba",
       "version_major": 2,
       "version_minor": 0
      },
      "text/plain": [
       "Output()"
      ]
     },
     "metadata": {},
     "output_type": "display_data"
    },
    {
     "data": {
      "text/html": [
       "<pre style=\"white-space:pre;overflow-x:auto;line-height:normal;font-family:Menlo,'DejaVu Sans Mono',consolas,'Courier New',monospace\">Event loop is already running. Applying nest_asyncio patch to allow async execution...\n",
       "</pre>\n"
      ],
      "text/plain": [
       "Event loop is already running. Applying nest_asyncio patch to allow async execution...\n"
      ]
     },
     "metadata": {},
     "output_type": "display_data"
    },
    {
     "data": {
      "text/html": [
       "<pre style=\"white-space:pre;overflow-x:auto;line-height:normal;font-family:Menlo,'DejaVu Sans Mono',consolas,'Courier New',monospace\"></pre>\n"
      ],
      "text/plain": []
     },
     "metadata": {},
     "output_type": "display_data"
    },
    {
     "data": {
      "application/vnd.jupyter.widget-view+json": {
       "model_id": "c1390f68185846e5b18ddf7ac681c7e4",
       "version_major": 2,
       "version_minor": 0
      },
      "text/plain": [
       "Output()"
      ]
     },
     "metadata": {},
     "output_type": "display_data"
    },
    {
     "data": {
      "text/html": [
       "<pre style=\"white-space:pre;overflow-x:auto;line-height:normal;font-family:Menlo,'DejaVu Sans Mono',consolas,'Courier New',monospace\">Event loop is already running. Applying nest_asyncio patch to allow async execution...\n",
       "</pre>\n"
      ],
      "text/plain": [
       "Event loop is already running. Applying nest_asyncio patch to allow async execution...\n"
      ]
     },
     "metadata": {},
     "output_type": "display_data"
    },
    {
     "data": {
      "text/html": [
       "<pre style=\"white-space:pre;overflow-x:auto;line-height:normal;font-family:Menlo,'DejaVu Sans Mono',consolas,'Courier New',monospace\"></pre>\n"
      ],
      "text/plain": []
     },
     "metadata": {},
     "output_type": "display_data"
    },
    {
     "name": "stdout",
     "output_type": "stream",
     "text": [
      "Correctness Score: 0.07315557895781337\n",
      "Faithfulness Score: 1.0\n",
      "Contextual Relevancy Score: 0.5\n",
      "------------------------------------\n",
      "\n",
      "\n",
      "Scenario 3\n",
      "Question:What are the common side effects of Keytruda?\n",
      "Ground Thruth:Common side effects include fatigue, nausea, and skin rash.\n"
     ]
    },
    {
     "data": {
      "application/vnd.jupyter.widget-view+json": {
       "model_id": "0a412a98c9cd4bb5bd7f607107aee4c4",
       "version_major": 2,
       "version_minor": 0
      },
      "text/plain": [
       "Output()"
      ]
     },
     "metadata": {},
     "output_type": "display_data"
    },
    {
     "data": {
      "text/html": [
       "<pre style=\"white-space:pre;overflow-x:auto;line-height:normal;font-family:Menlo,'DejaVu Sans Mono',consolas,'Courier New',monospace\">Event loop is already running. Applying nest_asyncio patch to allow async execution...\n",
       "</pre>\n"
      ],
      "text/plain": [
       "Event loop is already running. Applying nest_asyncio patch to allow async execution...\n"
      ]
     },
     "metadata": {},
     "output_type": "display_data"
    },
    {
     "data": {
      "text/html": [
       "<pre style=\"white-space:pre;overflow-x:auto;line-height:normal;font-family:Menlo,'DejaVu Sans Mono',consolas,'Courier New',monospace\"></pre>\n"
      ],
      "text/plain": []
     },
     "metadata": {},
     "output_type": "display_data"
    },
    {
     "data": {
      "application/vnd.jupyter.widget-view+json": {
       "model_id": "551fb2e107434939beb32aa065a01323",
       "version_major": 2,
       "version_minor": 0
      },
      "text/plain": [
       "Output()"
      ]
     },
     "metadata": {},
     "output_type": "display_data"
    },
    {
     "data": {
      "text/html": [
       "<pre style=\"white-space:pre;overflow-x:auto;line-height:normal;font-family:Menlo,'DejaVu Sans Mono',consolas,'Courier New',monospace\">Event loop is already running. Applying nest_asyncio patch to allow async execution...\n",
       "</pre>\n"
      ],
      "text/plain": [
       "Event loop is already running. Applying nest_asyncio patch to allow async execution...\n"
      ]
     },
     "metadata": {},
     "output_type": "display_data"
    },
    {
     "data": {
      "text/html": [
       "<pre style=\"white-space:pre;overflow-x:auto;line-height:normal;font-family:Menlo,'DejaVu Sans Mono',consolas,'Courier New',monospace\"></pre>\n"
      ],
      "text/plain": []
     },
     "metadata": {},
     "output_type": "display_data"
    },
    {
     "data": {
      "application/vnd.jupyter.widget-view+json": {
       "model_id": "e021e360fc084e1fb7e7fce9307602c9",
       "version_major": 2,
       "version_minor": 0
      },
      "text/plain": [
       "Output()"
      ]
     },
     "metadata": {},
     "output_type": "display_data"
    },
    {
     "data": {
      "text/html": [
       "<pre style=\"white-space:pre;overflow-x:auto;line-height:normal;font-family:Menlo,'DejaVu Sans Mono',consolas,'Courier New',monospace\">Event loop is already running. Applying nest_asyncio patch to allow async execution...\n",
       "</pre>\n"
      ],
      "text/plain": [
       "Event loop is already running. Applying nest_asyncio patch to allow async execution...\n"
      ]
     },
     "metadata": {},
     "output_type": "display_data"
    },
    {
     "data": {
      "text/html": [
       "<pre style=\"white-space:pre;overflow-x:auto;line-height:normal;font-family:Menlo,'DejaVu Sans Mono',consolas,'Courier New',monospace\"></pre>\n"
      ],
      "text/plain": []
     },
     "metadata": {},
     "output_type": "display_data"
    },
    {
     "name": "stdout",
     "output_type": "stream",
     "text": [
      "Correctness Score: 0.9939913347566941\n",
      "Faithfulness Score: 1.0\n",
      "Contextual Relevancy Score: 0.5\n",
      "------------------------------------\n",
      "\n",
      "\n",
      "Scenario 4\n",
      "Question:How effective is Keytruda in treating non-small cell lung cancer (NSCLC)?\n",
      "Ground Thruth:Keytruda has shown to improve survival rates significantly in non-small cell lung cancer patients with PD-L1 expression.\n"
     ]
    },
    {
     "data": {
      "application/vnd.jupyter.widget-view+json": {
       "model_id": "f010851056c74f69b4ec80c72805d358",
       "version_major": 2,
       "version_minor": 0
      },
      "text/plain": [
       "Output()"
      ]
     },
     "metadata": {},
     "output_type": "display_data"
    },
    {
     "data": {
      "text/html": [
       "<pre style=\"white-space:pre;overflow-x:auto;line-height:normal;font-family:Menlo,'DejaVu Sans Mono',consolas,'Courier New',monospace\">Event loop is already running. Applying nest_asyncio patch to allow async execution...\n",
       "</pre>\n"
      ],
      "text/plain": [
       "Event loop is already running. Applying nest_asyncio patch to allow async execution...\n"
      ]
     },
     "metadata": {},
     "output_type": "display_data"
    },
    {
     "data": {
      "text/html": [
       "<pre style=\"white-space:pre;overflow-x:auto;line-height:normal;font-family:Menlo,'DejaVu Sans Mono',consolas,'Courier New',monospace\"></pre>\n"
      ],
      "text/plain": []
     },
     "metadata": {},
     "output_type": "display_data"
    },
    {
     "data": {
      "application/vnd.jupyter.widget-view+json": {
       "model_id": "d3ababc87ec14e80b8d549f7f50dfa3d",
       "version_major": 2,
       "version_minor": 0
      },
      "text/plain": [
       "Output()"
      ]
     },
     "metadata": {},
     "output_type": "display_data"
    },
    {
     "data": {
      "text/html": [
       "<pre style=\"white-space:pre;overflow-x:auto;line-height:normal;font-family:Menlo,'DejaVu Sans Mono',consolas,'Courier New',monospace\">Event loop is already running. Applying nest_asyncio patch to allow async execution...\n",
       "</pre>\n"
      ],
      "text/plain": [
       "Event loop is already running. Applying nest_asyncio patch to allow async execution...\n"
      ]
     },
     "metadata": {},
     "output_type": "display_data"
    },
    {
     "data": {
      "text/html": [
       "<pre style=\"white-space:pre;overflow-x:auto;line-height:normal;font-family:Menlo,'DejaVu Sans Mono',consolas,'Courier New',monospace\"></pre>\n"
      ],
      "text/plain": []
     },
     "metadata": {},
     "output_type": "display_data"
    },
    {
     "data": {
      "application/vnd.jupyter.widget-view+json": {
       "model_id": "c8e13e6b6119419a949a2b84055436d0",
       "version_major": 2,
       "version_minor": 0
      },
      "text/plain": [
       "Output()"
      ]
     },
     "metadata": {},
     "output_type": "display_data"
    },
    {
     "data": {
      "text/html": [
       "<pre style=\"white-space:pre;overflow-x:auto;line-height:normal;font-family:Menlo,'DejaVu Sans Mono',consolas,'Courier New',monospace\">Event loop is already running. Applying nest_asyncio patch to allow async execution...\n",
       "</pre>\n"
      ],
      "text/plain": [
       "Event loop is already running. Applying nest_asyncio patch to allow async execution...\n"
      ]
     },
     "metadata": {},
     "output_type": "display_data"
    },
    {
     "data": {
      "text/html": [
       "<pre style=\"white-space:pre;overflow-x:auto;line-height:normal;font-family:Menlo,'DejaVu Sans Mono',consolas,'Courier New',monospace\"></pre>\n"
      ],
      "text/plain": []
     },
     "metadata": {},
     "output_type": "display_data"
    },
    {
     "name": "stdout",
     "output_type": "stream",
     "text": [
      "Correctness Score: 0.9324822668259791\n",
      "Faithfulness Score: 1.0\n",
      "Contextual Relevancy Score: 0.5\n",
      "------------------------------------\n",
      "\n",
      "\n",
      "Scenario 5\n",
      "Question:What is the response rate of melanoma patients treated with Keytruda?\n",
      "Ground Thruth:Approximately 40% of melanoma patients respond positively to Keytruda treatment.\n"
     ]
    },
    {
     "data": {
      "application/vnd.jupyter.widget-view+json": {
       "model_id": "dbdf47a29c0d4095a7f8696cccb160bd",
       "version_major": 2,
       "version_minor": 0
      },
      "text/plain": [
       "Output()"
      ]
     },
     "metadata": {},
     "output_type": "display_data"
    },
    {
     "data": {
      "text/html": [
       "<pre style=\"white-space:pre;overflow-x:auto;line-height:normal;font-family:Menlo,'DejaVu Sans Mono',consolas,'Courier New',monospace\">Event loop is already running. Applying nest_asyncio patch to allow async execution...\n",
       "</pre>\n"
      ],
      "text/plain": [
       "Event loop is already running. Applying nest_asyncio patch to allow async execution...\n"
      ]
     },
     "metadata": {},
     "output_type": "display_data"
    },
    {
     "data": {
      "text/html": [
       "<pre style=\"white-space:pre;overflow-x:auto;line-height:normal;font-family:Menlo,'DejaVu Sans Mono',consolas,'Courier New',monospace\"></pre>\n"
      ],
      "text/plain": []
     },
     "metadata": {},
     "output_type": "display_data"
    },
    {
     "data": {
      "application/vnd.jupyter.widget-view+json": {
       "model_id": "b57e203201a147e8b0629600c93f372d",
       "version_major": 2,
       "version_minor": 0
      },
      "text/plain": [
       "Output()"
      ]
     },
     "metadata": {},
     "output_type": "display_data"
    },
    {
     "data": {
      "text/html": [
       "<pre style=\"white-space:pre;overflow-x:auto;line-height:normal;font-family:Menlo,'DejaVu Sans Mono',consolas,'Courier New',monospace\">Event loop is already running. Applying nest_asyncio patch to allow async execution...\n",
       "</pre>\n"
      ],
      "text/plain": [
       "Event loop is already running. Applying nest_asyncio patch to allow async execution...\n"
      ]
     },
     "metadata": {},
     "output_type": "display_data"
    },
    {
     "data": {
      "text/html": [
       "<pre style=\"white-space:pre;overflow-x:auto;line-height:normal;font-family:Menlo,'DejaVu Sans Mono',consolas,'Courier New',monospace\"></pre>\n"
      ],
      "text/plain": []
     },
     "metadata": {},
     "output_type": "display_data"
    },
    {
     "data": {
      "application/vnd.jupyter.widget-view+json": {
       "model_id": "8de025f9bbb648cc8c8d616197c69775",
       "version_major": 2,
       "version_minor": 0
      },
      "text/plain": [
       "Output()"
      ]
     },
     "metadata": {},
     "output_type": "display_data"
    },
    {
     "data": {
      "text/html": [
       "<pre style=\"white-space:pre;overflow-x:auto;line-height:normal;font-family:Menlo,'DejaVu Sans Mono',consolas,'Courier New',monospace\">Event loop is already running. Applying nest_asyncio patch to allow async execution...\n",
       "</pre>\n"
      ],
      "text/plain": [
       "Event loop is already running. Applying nest_asyncio patch to allow async execution...\n"
      ]
     },
     "metadata": {},
     "output_type": "display_data"
    },
    {
     "data": {
      "text/html": [
       "<pre style=\"white-space:pre;overflow-x:auto;line-height:normal;font-family:Menlo,'DejaVu Sans Mono',consolas,'Courier New',monospace\"></pre>\n"
      ],
      "text/plain": []
     },
     "metadata": {},
     "output_type": "display_data"
    },
    {
     "name": "stdout",
     "output_type": "stream",
     "text": [
      "Correctness Score: 1.0\n",
      "Faithfulness Score: 1.0\n",
      "Contextual Relevancy Score: 0.5\n",
      "------------------------------------\n",
      "\n",
      "\n",
      "Elapsed time: 97798.81167411804 ms\n"
     ]
    }
   ],
   "source": [
    "print(\"Testing processor GPT-4o-mini\" )\n",
    "time_acc = 0\n",
    "for number, scenario in enumerate(test_scenarios):\n",
    "    start = time.time()\n",
    "    counter = number+1\n",
    "    print(\"Scenario \"+ str(counter))\n",
    "    print(\"Question:\"+ scenario.question)\n",
    "    print(\"Ground Thruth:\"+scenario.gt_answer)\n",
    "\n",
    "\n",
    "    test_case = scenario.run(processor=processor_gpt)\n",
    "    test_runner.run_test(test_case)\n",
    "    print(\"------------------------------------\")\n",
    "    print(\"\\n\")\n",
    "    end = time.time()\n",
    "    time_acc+=end-start\n",
    "\n",
    "print(\"Elapsed time:\",time_acc* 10**3, \"ms\")"
   ]
  },
  {
   "cell_type": "markdown",
   "metadata": {},
   "source": []
  },
  {
   "cell_type": "markdown",
   "metadata": {},
   "source": [
    "### Testing Gemini"
   ]
  },
  {
   "cell_type": "code",
   "execution_count": 43,
   "metadata": {},
   "outputs": [
    {
     "name": "stdout",
     "output_type": "stream",
     "text": [
      "Testing processor Gemini\n",
      "Scenario 1\n",
      "Question:Are there any known interactions between Keytruda and other medications?\n",
      "Ground Thruth:Yes, Keytruda can interact with steroids and certain immunosuppressants, potentially affecting its efficacy and safety.\n"
     ]
    },
    {
     "data": {
      "application/vnd.jupyter.widget-view+json": {
       "model_id": "cd010f746e7f45bd9449d3b5cf92bca4",
       "version_major": 2,
       "version_minor": 0
      },
      "text/plain": [
       "Output()"
      ]
     },
     "metadata": {},
     "output_type": "display_data"
    },
    {
     "data": {
      "text/html": [
       "<pre style=\"white-space:pre;overflow-x:auto;line-height:normal;font-family:Menlo,'DejaVu Sans Mono',consolas,'Courier New',monospace\">Event loop is already running. Applying nest_asyncio patch to allow async execution...\n",
       "</pre>\n"
      ],
      "text/plain": [
       "Event loop is already running. Applying nest_asyncio patch to allow async execution...\n"
      ]
     },
     "metadata": {},
     "output_type": "display_data"
    },
    {
     "data": {
      "text/html": [
       "<pre style=\"white-space:pre;overflow-x:auto;line-height:normal;font-family:Menlo,'DejaVu Sans Mono',consolas,'Courier New',monospace\"></pre>\n"
      ],
      "text/plain": []
     },
     "metadata": {},
     "output_type": "display_data"
    },
    {
     "data": {
      "application/vnd.jupyter.widget-view+json": {
       "model_id": "a5bfb17f88804daa84272161dcde05b0",
       "version_major": 2,
       "version_minor": 0
      },
      "text/plain": [
       "Output()"
      ]
     },
     "metadata": {},
     "output_type": "display_data"
    },
    {
     "data": {
      "text/html": [
       "<pre style=\"white-space:pre;overflow-x:auto;line-height:normal;font-family:Menlo,'DejaVu Sans Mono',consolas,'Courier New',monospace\">Event loop is already running. Applying nest_asyncio patch to allow async execution...\n",
       "</pre>\n"
      ],
      "text/plain": [
       "Event loop is already running. Applying nest_asyncio patch to allow async execution...\n"
      ]
     },
     "metadata": {},
     "output_type": "display_data"
    },
    {
     "data": {
      "text/html": [
       "<pre style=\"white-space:pre;overflow-x:auto;line-height:normal;font-family:Menlo,'DejaVu Sans Mono',consolas,'Courier New',monospace\"></pre>\n"
      ],
      "text/plain": []
     },
     "metadata": {},
     "output_type": "display_data"
    },
    {
     "data": {
      "application/vnd.jupyter.widget-view+json": {
       "model_id": "bcbb12be261f4ea1963a4a1a7b2a457f",
       "version_major": 2,
       "version_minor": 0
      },
      "text/plain": [
       "Output()"
      ]
     },
     "metadata": {},
     "output_type": "display_data"
    },
    {
     "data": {
      "text/html": [
       "<pre style=\"white-space:pre;overflow-x:auto;line-height:normal;font-family:Menlo,'DejaVu Sans Mono',consolas,'Courier New',monospace\">Event loop is already running. Applying nest_asyncio patch to allow async execution...\n",
       "</pre>\n"
      ],
      "text/plain": [
       "Event loop is already running. Applying nest_asyncio patch to allow async execution...\n"
      ]
     },
     "metadata": {},
     "output_type": "display_data"
    },
    {
     "data": {
      "text/html": [
       "<pre style=\"white-space:pre;overflow-x:auto;line-height:normal;font-family:Menlo,'DejaVu Sans Mono',consolas,'Courier New',monospace\"></pre>\n"
      ],
      "text/plain": []
     },
     "metadata": {},
     "output_type": "display_data"
    },
    {
     "name": "stdout",
     "output_type": "stream",
     "text": [
      "Correctness Score: 0.0\n",
      "Faithfulness Score: 1\n",
      "Contextual Relevancy Score: 1.0\n",
      "------------------------------------\n",
      "\n",
      "\n",
      "Scenario 2\n",
      "Question:What is the five-year survival rate for patients using Keytruda for lung cancer?\n",
      "Ground Thruth:No detailed information available on the given topic.\n"
     ]
    },
    {
     "data": {
      "application/vnd.jupyter.widget-view+json": {
       "model_id": "035bfcf7f76d4348b5f3cfbbf041cadb",
       "version_major": 2,
       "version_minor": 0
      },
      "text/plain": [
       "Output()"
      ]
     },
     "metadata": {},
     "output_type": "display_data"
    },
    {
     "data": {
      "text/html": [
       "<pre style=\"white-space:pre;overflow-x:auto;line-height:normal;font-family:Menlo,'DejaVu Sans Mono',consolas,'Courier New',monospace\">Event loop is already running. Applying nest_asyncio patch to allow async execution...\n",
       "</pre>\n"
      ],
      "text/plain": [
       "Event loop is already running. Applying nest_asyncio patch to allow async execution...\n"
      ]
     },
     "metadata": {},
     "output_type": "display_data"
    },
    {
     "data": {
      "text/html": [
       "<pre style=\"white-space:pre;overflow-x:auto;line-height:normal;font-family:Menlo,'DejaVu Sans Mono',consolas,'Courier New',monospace\"></pre>\n"
      ],
      "text/plain": []
     },
     "metadata": {},
     "output_type": "display_data"
    },
    {
     "data": {
      "application/vnd.jupyter.widget-view+json": {
       "model_id": "b6d7f272f6214a3d8234f1252ec638ac",
       "version_major": 2,
       "version_minor": 0
      },
      "text/plain": [
       "Output()"
      ]
     },
     "metadata": {},
     "output_type": "display_data"
    },
    {
     "data": {
      "text/html": [
       "<pre style=\"white-space:pre;overflow-x:auto;line-height:normal;font-family:Menlo,'DejaVu Sans Mono',consolas,'Courier New',monospace\">Event loop is already running. Applying nest_asyncio patch to allow async execution...\n",
       "</pre>\n"
      ],
      "text/plain": [
       "Event loop is already running. Applying nest_asyncio patch to allow async execution...\n"
      ]
     },
     "metadata": {},
     "output_type": "display_data"
    },
    {
     "data": {
      "text/html": [
       "<pre style=\"white-space:pre;overflow-x:auto;line-height:normal;font-family:Menlo,'DejaVu Sans Mono',consolas,'Courier New',monospace\"></pre>\n"
      ],
      "text/plain": []
     },
     "metadata": {},
     "output_type": "display_data"
    },
    {
     "data": {
      "application/vnd.jupyter.widget-view+json": {
       "model_id": "1cabd9d9846a47529321c4d7acf2d6ef",
       "version_major": 2,
       "version_minor": 0
      },
      "text/plain": [
       "Output()"
      ]
     },
     "metadata": {},
     "output_type": "display_data"
    },
    {
     "data": {
      "text/html": [
       "<pre style=\"white-space:pre;overflow-x:auto;line-height:normal;font-family:Menlo,'DejaVu Sans Mono',consolas,'Courier New',monospace\">Event loop is already running. Applying nest_asyncio patch to allow async execution...\n",
       "</pre>\n"
      ],
      "text/plain": [
       "Event loop is already running. Applying nest_asyncio patch to allow async execution...\n"
      ]
     },
     "metadata": {},
     "output_type": "display_data"
    },
    {
     "data": {
      "text/html": [
       "<pre style=\"white-space:pre;overflow-x:auto;line-height:normal;font-family:Menlo,'DejaVu Sans Mono',consolas,'Courier New',monospace\"></pre>\n"
      ],
      "text/plain": []
     },
     "metadata": {},
     "output_type": "display_data"
    },
    {
     "name": "stdout",
     "output_type": "stream",
     "text": [
      "Correctness Score: 0.6802709729332108\n",
      "Faithfulness Score: 1.0\n",
      "Contextual Relevancy Score: 0.5\n",
      "------------------------------------\n",
      "\n",
      "\n",
      "Scenario 3\n",
      "Question:What are the common side effects of Keytruda?\n",
      "Ground Thruth:Common side effects include fatigue, nausea, and skin rash.\n"
     ]
    },
    {
     "data": {
      "application/vnd.jupyter.widget-view+json": {
       "model_id": "8fd840de51454796bb8e4c30a90e67e7",
       "version_major": 2,
       "version_minor": 0
      },
      "text/plain": [
       "Output()"
      ]
     },
     "metadata": {},
     "output_type": "display_data"
    },
    {
     "data": {
      "text/html": [
       "<pre style=\"white-space:pre;overflow-x:auto;line-height:normal;font-family:Menlo,'DejaVu Sans Mono',consolas,'Courier New',monospace\">Event loop is already running. Applying nest_asyncio patch to allow async execution...\n",
       "</pre>\n"
      ],
      "text/plain": [
       "Event loop is already running. Applying nest_asyncio patch to allow async execution...\n"
      ]
     },
     "metadata": {},
     "output_type": "display_data"
    },
    {
     "data": {
      "text/html": [
       "<pre style=\"white-space:pre;overflow-x:auto;line-height:normal;font-family:Menlo,'DejaVu Sans Mono',consolas,'Courier New',monospace\"></pre>\n"
      ],
      "text/plain": []
     },
     "metadata": {},
     "output_type": "display_data"
    },
    {
     "data": {
      "application/vnd.jupyter.widget-view+json": {
       "model_id": "5049dcd434af4c219610087c1937b3ca",
       "version_major": 2,
       "version_minor": 0
      },
      "text/plain": [
       "Output()"
      ]
     },
     "metadata": {},
     "output_type": "display_data"
    },
    {
     "data": {
      "text/html": [
       "<pre style=\"white-space:pre;overflow-x:auto;line-height:normal;font-family:Menlo,'DejaVu Sans Mono',consolas,'Courier New',monospace\">Event loop is already running. Applying nest_asyncio patch to allow async execution...\n",
       "</pre>\n"
      ],
      "text/plain": [
       "Event loop is already running. Applying nest_asyncio patch to allow async execution...\n"
      ]
     },
     "metadata": {},
     "output_type": "display_data"
    },
    {
     "data": {
      "text/html": [
       "<pre style=\"white-space:pre;overflow-x:auto;line-height:normal;font-family:Menlo,'DejaVu Sans Mono',consolas,'Courier New',monospace\"></pre>\n"
      ],
      "text/plain": []
     },
     "metadata": {},
     "output_type": "display_data"
    },
    {
     "data": {
      "application/vnd.jupyter.widget-view+json": {
       "model_id": "30d960ea0836478c90e449452a190202",
       "version_major": 2,
       "version_minor": 0
      },
      "text/plain": [
       "Output()"
      ]
     },
     "metadata": {},
     "output_type": "display_data"
    },
    {
     "data": {
      "text/html": [
       "<pre style=\"white-space:pre;overflow-x:auto;line-height:normal;font-family:Menlo,'DejaVu Sans Mono',consolas,'Courier New',monospace\">Event loop is already running. Applying nest_asyncio patch to allow async execution...\n",
       "</pre>\n"
      ],
      "text/plain": [
       "Event loop is already running. Applying nest_asyncio patch to allow async execution...\n"
      ]
     },
     "metadata": {},
     "output_type": "display_data"
    },
    {
     "data": {
      "text/html": [
       "<pre style=\"white-space:pre;overflow-x:auto;line-height:normal;font-family:Menlo,'DejaVu Sans Mono',consolas,'Courier New',monospace\"></pre>\n"
      ],
      "text/plain": []
     },
     "metadata": {},
     "output_type": "display_data"
    },
    {
     "name": "stdout",
     "output_type": "stream",
     "text": [
      "Correctness Score: 0.974648446131859\n",
      "Faithfulness Score: 1.0\n",
      "Contextual Relevancy Score: 0.5\n",
      "------------------------------------\n",
      "\n",
      "\n",
      "Scenario 4\n",
      "Question:How effective is Keytruda in treating non-small cell lung cancer (NSCLC)?\n",
      "Ground Thruth:Keytruda has shown to improve survival rates significantly in non-small cell lung cancer patients with PD-L1 expression.\n"
     ]
    },
    {
     "data": {
      "application/vnd.jupyter.widget-view+json": {
       "model_id": "e790a23bc2b74e92b94b2334710e1dd8",
       "version_major": 2,
       "version_minor": 0
      },
      "text/plain": [
       "Output()"
      ]
     },
     "metadata": {},
     "output_type": "display_data"
    },
    {
     "data": {
      "text/html": [
       "<pre style=\"white-space:pre;overflow-x:auto;line-height:normal;font-family:Menlo,'DejaVu Sans Mono',consolas,'Courier New',monospace\">Event loop is already running. Applying nest_asyncio patch to allow async execution...\n",
       "</pre>\n"
      ],
      "text/plain": [
       "Event loop is already running. Applying nest_asyncio patch to allow async execution...\n"
      ]
     },
     "metadata": {},
     "output_type": "display_data"
    },
    {
     "data": {
      "text/html": [
       "<pre style=\"white-space:pre;overflow-x:auto;line-height:normal;font-family:Menlo,'DejaVu Sans Mono',consolas,'Courier New',monospace\"></pre>\n"
      ],
      "text/plain": []
     },
     "metadata": {},
     "output_type": "display_data"
    },
    {
     "data": {
      "application/vnd.jupyter.widget-view+json": {
       "model_id": "7678c4280f384cd780e3cb847954017b",
       "version_major": 2,
       "version_minor": 0
      },
      "text/plain": [
       "Output()"
      ]
     },
     "metadata": {},
     "output_type": "display_data"
    },
    {
     "data": {
      "text/html": [
       "<pre style=\"white-space:pre;overflow-x:auto;line-height:normal;font-family:Menlo,'DejaVu Sans Mono',consolas,'Courier New',monospace\">Event loop is already running. Applying nest_asyncio patch to allow async execution...\n",
       "</pre>\n"
      ],
      "text/plain": [
       "Event loop is already running. Applying nest_asyncio patch to allow async execution...\n"
      ]
     },
     "metadata": {},
     "output_type": "display_data"
    },
    {
     "data": {
      "text/html": [
       "<pre style=\"white-space:pre;overflow-x:auto;line-height:normal;font-family:Menlo,'DejaVu Sans Mono',consolas,'Courier New',monospace\"></pre>\n"
      ],
      "text/plain": []
     },
     "metadata": {},
     "output_type": "display_data"
    },
    {
     "data": {
      "application/vnd.jupyter.widget-view+json": {
       "model_id": "ac0ad342fbaa485fa3782120a3d7d08e",
       "version_major": 2,
       "version_minor": 0
      },
      "text/plain": [
       "Output()"
      ]
     },
     "metadata": {},
     "output_type": "display_data"
    },
    {
     "data": {
      "text/html": [
       "<pre style=\"white-space:pre;overflow-x:auto;line-height:normal;font-family:Menlo,'DejaVu Sans Mono',consolas,'Courier New',monospace\">Event loop is already running. Applying nest_asyncio patch to allow async execution...\n",
       "</pre>\n"
      ],
      "text/plain": [
       "Event loop is already running. Applying nest_asyncio patch to allow async execution...\n"
      ]
     },
     "metadata": {},
     "output_type": "display_data"
    },
    {
     "data": {
      "text/html": [
       "<pre style=\"white-space:pre;overflow-x:auto;line-height:normal;font-family:Menlo,'DejaVu Sans Mono',consolas,'Courier New',monospace\"></pre>\n"
      ],
      "text/plain": []
     },
     "metadata": {},
     "output_type": "display_data"
    },
    {
     "name": "stdout",
     "output_type": "stream",
     "text": [
      "Correctness Score: 1.0\n",
      "Faithfulness Score: 1.0\n",
      "Contextual Relevancy Score: 0.5\n",
      "------------------------------------\n",
      "\n",
      "\n",
      "Scenario 5\n",
      "Question:What is the response rate of melanoma patients treated with Keytruda?\n",
      "Ground Thruth:Approximately 40% of melanoma patients respond positively to Keytruda treatment.\n"
     ]
    },
    {
     "data": {
      "application/vnd.jupyter.widget-view+json": {
       "model_id": "cb87c6113df4467989937cba733c6e15",
       "version_major": 2,
       "version_minor": 0
      },
      "text/plain": [
       "Output()"
      ]
     },
     "metadata": {},
     "output_type": "display_data"
    },
    {
     "data": {
      "text/html": [
       "<pre style=\"white-space:pre;overflow-x:auto;line-height:normal;font-family:Menlo,'DejaVu Sans Mono',consolas,'Courier New',monospace\">Event loop is already running. Applying nest_asyncio patch to allow async execution...\n",
       "</pre>\n"
      ],
      "text/plain": [
       "Event loop is already running. Applying nest_asyncio patch to allow async execution...\n"
      ]
     },
     "metadata": {},
     "output_type": "display_data"
    },
    {
     "data": {
      "text/html": [
       "<pre style=\"white-space:pre;overflow-x:auto;line-height:normal;font-family:Menlo,'DejaVu Sans Mono',consolas,'Courier New',monospace\"></pre>\n"
      ],
      "text/plain": []
     },
     "metadata": {},
     "output_type": "display_data"
    },
    {
     "data": {
      "application/vnd.jupyter.widget-view+json": {
       "model_id": "9d15990f10fb48318dcfeff958c62f86",
       "version_major": 2,
       "version_minor": 0
      },
      "text/plain": [
       "Output()"
      ]
     },
     "metadata": {},
     "output_type": "display_data"
    },
    {
     "data": {
      "text/html": [
       "<pre style=\"white-space:pre;overflow-x:auto;line-height:normal;font-family:Menlo,'DejaVu Sans Mono',consolas,'Courier New',monospace\">Event loop is already running. Applying nest_asyncio patch to allow async execution...\n",
       "</pre>\n"
      ],
      "text/plain": [
       "Event loop is already running. Applying nest_asyncio patch to allow async execution...\n"
      ]
     },
     "metadata": {},
     "output_type": "display_data"
    },
    {
     "data": {
      "text/html": [
       "<pre style=\"white-space:pre;overflow-x:auto;line-height:normal;font-family:Menlo,'DejaVu Sans Mono',consolas,'Courier New',monospace\"></pre>\n"
      ],
      "text/plain": []
     },
     "metadata": {},
     "output_type": "display_data"
    },
    {
     "data": {
      "application/vnd.jupyter.widget-view+json": {
       "model_id": "c0063cbed7964510bc94132159640313",
       "version_major": 2,
       "version_minor": 0
      },
      "text/plain": [
       "Output()"
      ]
     },
     "metadata": {},
     "output_type": "display_data"
    },
    {
     "data": {
      "text/html": [
       "<pre style=\"white-space:pre;overflow-x:auto;line-height:normal;font-family:Menlo,'DejaVu Sans Mono',consolas,'Courier New',monospace\">Event loop is already running. Applying nest_asyncio patch to allow async execution...\n",
       "</pre>\n"
      ],
      "text/plain": [
       "Event loop is already running. Applying nest_asyncio patch to allow async execution...\n"
      ]
     },
     "metadata": {},
     "output_type": "display_data"
    },
    {
     "data": {
      "text/html": [
       "<pre style=\"white-space:pre;overflow-x:auto;line-height:normal;font-family:Menlo,'DejaVu Sans Mono',consolas,'Courier New',monospace\"></pre>\n"
      ],
      "text/plain": []
     },
     "metadata": {},
     "output_type": "display_data"
    },
    {
     "name": "stdout",
     "output_type": "stream",
     "text": [
      "Correctness Score: 1.0\n",
      "Faithfulness Score: 1.0\n",
      "Contextual Relevancy Score: 0.5\n",
      "------------------------------------\n",
      "\n",
      "\n",
      "Elapsed time: 363425.68349838257 ms\n"
     ]
    }
   ],
   "source": [
    "print(\"Testing processor Gemini\" )\n",
    "time_acc = 0\n",
    "for number, scenario in enumerate(test_scenarios):\n",
    "    start = time.time()\n",
    "    counter = number+1\n",
    "    print(\"Scenario \"+ str(counter))\n",
    "    print(\"Question:\"+ scenario.question)\n",
    "    print(\"Ground Thruth:\"+scenario.gt_answer)\n",
    "\n",
    "\n",
    "    test_case = scenario.run(processor=processor_gemini)\n",
    "    test_runner.run_test(test_case)\n",
    "    print(\"------------------------------------\")\n",
    "    print(\"\\n\")\n",
    "    time.sleep(60)\n",
    "    end = time.time()\n",
    "    time_acc+=end-start\n",
    "\n",
    "print(\"Elapsed time:\",time_acc* 10**3, \"ms\")    "
   ]
  },
  {
   "cell_type": "markdown",
   "metadata": {},
   "source": [
    "### Testing Claude"
   ]
  },
  {
   "cell_type": "code",
   "execution_count": 44,
   "metadata": {},
   "outputs": [
    {
     "name": "stdout",
     "output_type": "stream",
     "text": [
      "Testing processor Claude\n",
      "Scenario 1\n",
      "Question:Are there any known interactions between Keytruda and other medications?\n",
      "Ground Thruth:Yes, Keytruda can interact with steroids and certain immunosuppressants, potentially affecting its efficacy and safety.\n"
     ]
    },
    {
     "data": {
      "application/vnd.jupyter.widget-view+json": {
       "model_id": "f9b8073be29348af9913e4827f1f6171",
       "version_major": 2,
       "version_minor": 0
      },
      "text/plain": [
       "Output()"
      ]
     },
     "metadata": {},
     "output_type": "display_data"
    },
    {
     "data": {
      "text/html": [
       "<pre style=\"white-space:pre;overflow-x:auto;line-height:normal;font-family:Menlo,'DejaVu Sans Mono',consolas,'Courier New',monospace\">Event loop is already running. Applying nest_asyncio patch to allow async execution...\n",
       "</pre>\n"
      ],
      "text/plain": [
       "Event loop is already running. Applying nest_asyncio patch to allow async execution...\n"
      ]
     },
     "metadata": {},
     "output_type": "display_data"
    },
    {
     "data": {
      "text/html": [
       "<pre style=\"white-space:pre;overflow-x:auto;line-height:normal;font-family:Menlo,'DejaVu Sans Mono',consolas,'Courier New',monospace\"></pre>\n"
      ],
      "text/plain": []
     },
     "metadata": {},
     "output_type": "display_data"
    },
    {
     "data": {
      "application/vnd.jupyter.widget-view+json": {
       "model_id": "70b73527020e437693117561359164fb",
       "version_major": 2,
       "version_minor": 0
      },
      "text/plain": [
       "Output()"
      ]
     },
     "metadata": {},
     "output_type": "display_data"
    },
    {
     "data": {
      "text/html": [
       "<pre style=\"white-space:pre;overflow-x:auto;line-height:normal;font-family:Menlo,'DejaVu Sans Mono',consolas,'Courier New',monospace\">Event loop is already running. Applying nest_asyncio patch to allow async execution...\n",
       "</pre>\n"
      ],
      "text/plain": [
       "Event loop is already running. Applying nest_asyncio patch to allow async execution...\n"
      ]
     },
     "metadata": {},
     "output_type": "display_data"
    },
    {
     "data": {
      "text/html": [
       "<pre style=\"white-space:pre;overflow-x:auto;line-height:normal;font-family:Menlo,'DejaVu Sans Mono',consolas,'Courier New',monospace\"></pre>\n"
      ],
      "text/plain": []
     },
     "metadata": {},
     "output_type": "display_data"
    },
    {
     "data": {
      "application/vnd.jupyter.widget-view+json": {
       "model_id": "d92671991c3747baad105f440085728b",
       "version_major": 2,
       "version_minor": 0
      },
      "text/plain": [
       "Output()"
      ]
     },
     "metadata": {},
     "output_type": "display_data"
    },
    {
     "data": {
      "text/html": [
       "<pre style=\"white-space:pre;overflow-x:auto;line-height:normal;font-family:Menlo,'DejaVu Sans Mono',consolas,'Courier New',monospace\">Event loop is already running. Applying nest_asyncio patch to allow async execution...\n",
       "</pre>\n"
      ],
      "text/plain": [
       "Event loop is already running. Applying nest_asyncio patch to allow async execution...\n"
      ]
     },
     "metadata": {},
     "output_type": "display_data"
    },
    {
     "data": {
      "text/html": [
       "<pre style=\"white-space:pre;overflow-x:auto;line-height:normal;font-family:Menlo,'DejaVu Sans Mono',consolas,'Courier New',monospace\"></pre>\n"
      ],
      "text/plain": []
     },
     "metadata": {},
     "output_type": "display_data"
    },
    {
     "name": "stdout",
     "output_type": "stream",
     "text": [
      "Correctness Score: 0.9982013783961936\n",
      "Faithfulness Score: 1.0\n",
      "Contextual Relevancy Score: 0.5\n",
      "------------------------------------\n",
      "\n",
      "\n",
      "Scenario 2\n",
      "Question:What is the five-year survival rate for patients using Keytruda for lung cancer?\n",
      "Ground Thruth:No detailed information available on the given topic.\n"
     ]
    },
    {
     "data": {
      "application/vnd.jupyter.widget-view+json": {
       "model_id": "1c3e8f8704ad4dbfb786319b267402fb",
       "version_major": 2,
       "version_minor": 0
      },
      "text/plain": [
       "Output()"
      ]
     },
     "metadata": {},
     "output_type": "display_data"
    },
    {
     "data": {
      "text/html": [
       "<pre style=\"white-space:pre;overflow-x:auto;line-height:normal;font-family:Menlo,'DejaVu Sans Mono',consolas,'Courier New',monospace\">Event loop is already running. Applying nest_asyncio patch to allow async execution...\n",
       "</pre>\n"
      ],
      "text/plain": [
       "Event loop is already running. Applying nest_asyncio patch to allow async execution...\n"
      ]
     },
     "metadata": {},
     "output_type": "display_data"
    },
    {
     "data": {
      "text/html": [
       "<pre style=\"white-space:pre;overflow-x:auto;line-height:normal;font-family:Menlo,'DejaVu Sans Mono',consolas,'Courier New',monospace\"></pre>\n"
      ],
      "text/plain": []
     },
     "metadata": {},
     "output_type": "display_data"
    },
    {
     "data": {
      "application/vnd.jupyter.widget-view+json": {
       "model_id": "47a3f378f3a74073bfb3b49c965261db",
       "version_major": 2,
       "version_minor": 0
      },
      "text/plain": [
       "Output()"
      ]
     },
     "metadata": {},
     "output_type": "display_data"
    },
    {
     "data": {
      "text/html": [
       "<pre style=\"white-space:pre;overflow-x:auto;line-height:normal;font-family:Menlo,'DejaVu Sans Mono',consolas,'Courier New',monospace\">Event loop is already running. Applying nest_asyncio patch to allow async execution...\n",
       "</pre>\n"
      ],
      "text/plain": [
       "Event loop is already running. Applying nest_asyncio patch to allow async execution...\n"
      ]
     },
     "metadata": {},
     "output_type": "display_data"
    },
    {
     "data": {
      "text/html": [
       "<pre style=\"white-space:pre;overflow-x:auto;line-height:normal;font-family:Menlo,'DejaVu Sans Mono',consolas,'Courier New',monospace\"></pre>\n"
      ],
      "text/plain": []
     },
     "metadata": {},
     "output_type": "display_data"
    },
    {
     "data": {
      "application/vnd.jupyter.widget-view+json": {
       "model_id": "d3d653298b3e4c1dae01f69a483df54c",
       "version_major": 2,
       "version_minor": 0
      },
      "text/plain": [
       "Output()"
      ]
     },
     "metadata": {},
     "output_type": "display_data"
    },
    {
     "data": {
      "text/html": [
       "<pre style=\"white-space:pre;overflow-x:auto;line-height:normal;font-family:Menlo,'DejaVu Sans Mono',consolas,'Courier New',monospace\">Event loop is already running. Applying nest_asyncio patch to allow async execution...\n",
       "</pre>\n"
      ],
      "text/plain": [
       "Event loop is already running. Applying nest_asyncio patch to allow async execution...\n"
      ]
     },
     "metadata": {},
     "output_type": "display_data"
    },
    {
     "data": {
      "text/html": [
       "<pre style=\"white-space:pre;overflow-x:auto;line-height:normal;font-family:Menlo,'DejaVu Sans Mono',consolas,'Courier New',monospace\"></pre>\n"
      ],
      "text/plain": []
     },
     "metadata": {},
     "output_type": "display_data"
    },
    {
     "name": "stdout",
     "output_type": "stream",
     "text": [
      "Correctness Score: 0.7512615082693693\n",
      "Faithfulness Score: 1.0\n",
      "Contextual Relevancy Score: 0.5\n",
      "------------------------------------\n",
      "\n",
      "\n",
      "Scenario 3\n",
      "Question:What are the common side effects of Keytruda?\n",
      "Ground Thruth:Common side effects include fatigue, nausea, and skin rash.\n"
     ]
    },
    {
     "data": {
      "application/vnd.jupyter.widget-view+json": {
       "model_id": "2afd3540bb8b4a35b451f4f6bbf8d19b",
       "version_major": 2,
       "version_minor": 0
      },
      "text/plain": [
       "Output()"
      ]
     },
     "metadata": {},
     "output_type": "display_data"
    },
    {
     "data": {
      "text/html": [
       "<pre style=\"white-space:pre;overflow-x:auto;line-height:normal;font-family:Menlo,'DejaVu Sans Mono',consolas,'Courier New',monospace\">Event loop is already running. Applying nest_asyncio patch to allow async execution...\n",
       "</pre>\n"
      ],
      "text/plain": [
       "Event loop is already running. Applying nest_asyncio patch to allow async execution...\n"
      ]
     },
     "metadata": {},
     "output_type": "display_data"
    },
    {
     "data": {
      "text/html": [
       "<pre style=\"white-space:pre;overflow-x:auto;line-height:normal;font-family:Menlo,'DejaVu Sans Mono',consolas,'Courier New',monospace\"></pre>\n"
      ],
      "text/plain": []
     },
     "metadata": {},
     "output_type": "display_data"
    },
    {
     "data": {
      "application/vnd.jupyter.widget-view+json": {
       "model_id": "313a984678874c14aad75b2c9e0f615b",
       "version_major": 2,
       "version_minor": 0
      },
      "text/plain": [
       "Output()"
      ]
     },
     "metadata": {},
     "output_type": "display_data"
    },
    {
     "data": {
      "text/html": [
       "<pre style=\"white-space:pre;overflow-x:auto;line-height:normal;font-family:Menlo,'DejaVu Sans Mono',consolas,'Courier New',monospace\">Event loop is already running. Applying nest_asyncio patch to allow async execution...\n",
       "</pre>\n"
      ],
      "text/plain": [
       "Event loop is already running. Applying nest_asyncio patch to allow async execution...\n"
      ]
     },
     "metadata": {},
     "output_type": "display_data"
    },
    {
     "data": {
      "text/html": [
       "<pre style=\"white-space:pre;overflow-x:auto;line-height:normal;font-family:Menlo,'DejaVu Sans Mono',consolas,'Courier New',monospace\"></pre>\n"
      ],
      "text/plain": []
     },
     "metadata": {},
     "output_type": "display_data"
    },
    {
     "data": {
      "application/vnd.jupyter.widget-view+json": {
       "model_id": "d8f9b313ed1e4e0e9909af055b9cb402",
       "version_major": 2,
       "version_minor": 0
      },
      "text/plain": [
       "Output()"
      ]
     },
     "metadata": {},
     "output_type": "display_data"
    },
    {
     "data": {
      "text/html": [
       "<pre style=\"white-space:pre;overflow-x:auto;line-height:normal;font-family:Menlo,'DejaVu Sans Mono',consolas,'Courier New',monospace\">Event loop is already running. Applying nest_asyncio patch to allow async execution...\n",
       "</pre>\n"
      ],
      "text/plain": [
       "Event loop is already running. Applying nest_asyncio patch to allow async execution...\n"
      ]
     },
     "metadata": {},
     "output_type": "display_data"
    },
    {
     "data": {
      "text/html": [
       "<pre style=\"white-space:pre;overflow-x:auto;line-height:normal;font-family:Menlo,'DejaVu Sans Mono',consolas,'Courier New',monospace\"></pre>\n"
      ],
      "text/plain": []
     },
     "metadata": {},
     "output_type": "display_data"
    },
    {
     "name": "stdout",
     "output_type": "stream",
     "text": [
      "Correctness Score: 0.997966764570123\n",
      "Faithfulness Score: 1.0\n",
      "Contextual Relevancy Score: 0.5\n",
      "------------------------------------\n",
      "\n",
      "\n",
      "Scenario 4\n",
      "Question:How effective is Keytruda in treating non-small cell lung cancer (NSCLC)?\n",
      "Ground Thruth:Keytruda has shown to improve survival rates significantly in non-small cell lung cancer patients with PD-L1 expression.\n"
     ]
    },
    {
     "data": {
      "application/vnd.jupyter.widget-view+json": {
       "model_id": "b3037946d50c43fcbd98c8419bcff6e2",
       "version_major": 2,
       "version_minor": 0
      },
      "text/plain": [
       "Output()"
      ]
     },
     "metadata": {},
     "output_type": "display_data"
    },
    {
     "data": {
      "text/html": [
       "<pre style=\"white-space:pre;overflow-x:auto;line-height:normal;font-family:Menlo,'DejaVu Sans Mono',consolas,'Courier New',monospace\">Event loop is already running. Applying nest_asyncio patch to allow async execution...\n",
       "</pre>\n"
      ],
      "text/plain": [
       "Event loop is already running. Applying nest_asyncio patch to allow async execution...\n"
      ]
     },
     "metadata": {},
     "output_type": "display_data"
    },
    {
     "data": {
      "text/html": [
       "<pre style=\"white-space:pre;overflow-x:auto;line-height:normal;font-family:Menlo,'DejaVu Sans Mono',consolas,'Courier New',monospace\"></pre>\n"
      ],
      "text/plain": []
     },
     "metadata": {},
     "output_type": "display_data"
    },
    {
     "data": {
      "application/vnd.jupyter.widget-view+json": {
       "model_id": "47e924f639f847d8be2d69ae84c9d9a6",
       "version_major": 2,
       "version_minor": 0
      },
      "text/plain": [
       "Output()"
      ]
     },
     "metadata": {},
     "output_type": "display_data"
    },
    {
     "data": {
      "text/html": [
       "<pre style=\"white-space:pre;overflow-x:auto;line-height:normal;font-family:Menlo,'DejaVu Sans Mono',consolas,'Courier New',monospace\">Event loop is already running. Applying nest_asyncio patch to allow async execution...\n",
       "</pre>\n"
      ],
      "text/plain": [
       "Event loop is already running. Applying nest_asyncio patch to allow async execution...\n"
      ]
     },
     "metadata": {},
     "output_type": "display_data"
    },
    {
     "data": {
      "text/html": [
       "<pre style=\"white-space:pre;overflow-x:auto;line-height:normal;font-family:Menlo,'DejaVu Sans Mono',consolas,'Courier New',monospace\"></pre>\n"
      ],
      "text/plain": []
     },
     "metadata": {},
     "output_type": "display_data"
    },
    {
     "data": {
      "application/vnd.jupyter.widget-view+json": {
       "model_id": "3ba8d19046554789908210540357cea9",
       "version_major": 2,
       "version_minor": 0
      },
      "text/plain": [
       "Output()"
      ]
     },
     "metadata": {},
     "output_type": "display_data"
    },
    {
     "data": {
      "text/html": [
       "<pre style=\"white-space:pre;overflow-x:auto;line-height:normal;font-family:Menlo,'DejaVu Sans Mono',consolas,'Courier New',monospace\">Event loop is already running. Applying nest_asyncio patch to allow async execution...\n",
       "</pre>\n"
      ],
      "text/plain": [
       "Event loop is already running. Applying nest_asyncio patch to allow async execution...\n"
      ]
     },
     "metadata": {},
     "output_type": "display_data"
    },
    {
     "data": {
      "text/html": [
       "<pre style=\"white-space:pre;overflow-x:auto;line-height:normal;font-family:Menlo,'DejaVu Sans Mono',consolas,'Courier New',monospace\"></pre>\n"
      ],
      "text/plain": []
     },
     "metadata": {},
     "output_type": "display_data"
    },
    {
     "name": "stdout",
     "output_type": "stream",
     "text": [
      "Correctness Score: 1.0\n",
      "Faithfulness Score: 1.0\n",
      "Contextual Relevancy Score: 0.5\n",
      "------------------------------------\n",
      "\n",
      "\n",
      "Scenario 5\n",
      "Question:What is the response rate of melanoma patients treated with Keytruda?\n",
      "Ground Thruth:Approximately 40% of melanoma patients respond positively to Keytruda treatment.\n"
     ]
    },
    {
     "data": {
      "application/vnd.jupyter.widget-view+json": {
       "model_id": "ff029515533e46389627c341c3272348",
       "version_major": 2,
       "version_minor": 0
      },
      "text/plain": [
       "Output()"
      ]
     },
     "metadata": {},
     "output_type": "display_data"
    },
    {
     "data": {
      "text/html": [
       "<pre style=\"white-space:pre;overflow-x:auto;line-height:normal;font-family:Menlo,'DejaVu Sans Mono',consolas,'Courier New',monospace\">Event loop is already running. Applying nest_asyncio patch to allow async execution...\n",
       "</pre>\n"
      ],
      "text/plain": [
       "Event loop is already running. Applying nest_asyncio patch to allow async execution...\n"
      ]
     },
     "metadata": {},
     "output_type": "display_data"
    },
    {
     "data": {
      "text/html": [
       "<pre style=\"white-space:pre;overflow-x:auto;line-height:normal;font-family:Menlo,'DejaVu Sans Mono',consolas,'Courier New',monospace\"></pre>\n"
      ],
      "text/plain": []
     },
     "metadata": {},
     "output_type": "display_data"
    },
    {
     "data": {
      "application/vnd.jupyter.widget-view+json": {
       "model_id": "f600de8f8bb74b7a86dc4f77b352f3ea",
       "version_major": 2,
       "version_minor": 0
      },
      "text/plain": [
       "Output()"
      ]
     },
     "metadata": {},
     "output_type": "display_data"
    },
    {
     "data": {
      "text/html": [
       "<pre style=\"white-space:pre;overflow-x:auto;line-height:normal;font-family:Menlo,'DejaVu Sans Mono',consolas,'Courier New',monospace\">Event loop is already running. Applying nest_asyncio patch to allow async execution...\n",
       "</pre>\n"
      ],
      "text/plain": [
       "Event loop is already running. Applying nest_asyncio patch to allow async execution...\n"
      ]
     },
     "metadata": {},
     "output_type": "display_data"
    },
    {
     "data": {
      "text/html": [
       "<pre style=\"white-space:pre;overflow-x:auto;line-height:normal;font-family:Menlo,'DejaVu Sans Mono',consolas,'Courier New',monospace\"></pre>\n"
      ],
      "text/plain": []
     },
     "metadata": {},
     "output_type": "display_data"
    },
    {
     "data": {
      "application/vnd.jupyter.widget-view+json": {
       "model_id": "538217072c0e4637bb7bf9da4a6d4315",
       "version_major": 2,
       "version_minor": 0
      },
      "text/plain": [
       "Output()"
      ]
     },
     "metadata": {},
     "output_type": "display_data"
    },
    {
     "data": {
      "text/html": [
       "<pre style=\"white-space:pre;overflow-x:auto;line-height:normal;font-family:Menlo,'DejaVu Sans Mono',consolas,'Courier New',monospace\">Event loop is already running. Applying nest_asyncio patch to allow async execution...\n",
       "</pre>\n"
      ],
      "text/plain": [
       "Event loop is already running. Applying nest_asyncio patch to allow async execution...\n"
      ]
     },
     "metadata": {},
     "output_type": "display_data"
    },
    {
     "data": {
      "text/html": [
       "<pre style=\"white-space:pre;overflow-x:auto;line-height:normal;font-family:Menlo,'DejaVu Sans Mono',consolas,'Courier New',monospace\"></pre>\n"
      ],
      "text/plain": []
     },
     "metadata": {},
     "output_type": "display_data"
    },
    {
     "name": "stdout",
     "output_type": "stream",
     "text": [
      "Correctness Score: 1.0000000000000002\n",
      "Faithfulness Score: 1.0\n",
      "Contextual Relevancy Score: 0.5\n",
      "------------------------------------\n",
      "\n",
      "\n",
      "Elapsed time: 125881.7195892334 ms\n"
     ]
    }
   ],
   "source": [
    "print(\"Testing processor Claude\" )\n",
    "time_acc = 0\n",
    "for number, scenario in enumerate(test_scenarios):\n",
    "    start = time.time()\n",
    "    counter = number+1\n",
    "    print(\"Scenario \"+ str(counter))\n",
    "    print(\"Question:\"+ scenario.question)\n",
    "    print(\"Ground Thruth:\"+scenario.gt_answer)\n",
    "\n",
    "\n",
    "    test_case = scenario.run(processor=processor_claude)\n",
    "    test_runner.run_test(test_case)\n",
    "    print(\"------------------------------------\")\n",
    "    print(\"\\n\")\n",
    "    end = time.time()\n",
    "    time_acc+=end-start\n",
    "\n",
    "print(\"Elapsed time:\",time_acc* 10**3, \"ms\")    "
   ]
  },
  {
   "cell_type": "markdown",
   "metadata": {},
   "source": [
    "# Evaluation Results\n",
    "\n",
    "## GPT-4o-mini\n",
    "\n",
    "| Scenario | Question                                                         | Correctness Score | Faithfulness Score | Contextual Relevancy Score | Response Time (ms) |\n",
    "|----------|-------------------------------------------------------------------|-------------------|--------------------|----------------------------|--------------------|\n",
    "| 1        | Are there any known interactions between Keytruda and other medications? | 0.9977            | 1.0                | 0.5                        | 97798.81           |\n",
    "| 2        | What is the five-year survival rate for patients using Keytruda for lung cancer? | 0.0732            | 1.0                | 0.5                        | 97798.81           |\n",
    "| 3        | What are the common side effects of Keytruda?                     | 0.9939            | 1.0                | 0.5                        | 97798.81           |\n",
    "| 4        | How effective is Keytruda in treating non-small cell lung cancer (NSCLC)? | 0.9325            | 1.0                | 0.5                        | 97798.81           |\n",
    "| 5        | What is the response rate of melanoma patients treated with Keytruda? | 1.0               | 1.0                | 0.5                        | 97798.81           |\n",
    "\n",
    "---\n",
    "\n",
    "## Gemini\n",
    "\n",
    "| Scenario | Question                                                         | Correctness Score | Faithfulness Score | Contextual Relevancy Score | Response Time (ms) |\n",
    "|----------|-------------------------------------------------------------------|-------------------|--------------------|----------------------------|--------------------|\n",
    "| 1        | Are there any known interactions between Keytruda and other medications? | 0.0               | 1.0                | 1.0                        | 363425.68          |\n",
    "| 2        | What is the five-year survival rate for patients using Keytruda for lung cancer? | 0.6803            | 1.0                | 0.5                        | 363425.68          |\n",
    "| 3        | What are the common side effects of Keytruda?                     | 0.9746            | 1.0                | 0.5                        | 363425.68          |\n",
    "| 4        | How effective is Keytruda in treating non-small cell lung cancer (NSCLC)? | 1.0               | 1.0                | 0.5                        | 363425.68          |\n",
    "| 5        | What is the response rate of melanoma patients treated with Keytruda? | 1.0               | 1.0                | 0.5                        | 363425.68          |\n",
    "\n",
    "---\n",
    "\n",
    "## Claude\n",
    "\n",
    "| Scenario | Question                                                         | Correctness Score | Faithfulness Score | Contextual Relevancy Score | Response Time (ms) |\n",
    "|----------|-------------------------------------------------------------------|-------------------|--------------------|----------------------------|--------------------|\n",
    "| 1        | Are there any known interactions between Keytruda and other medications? | 0.9982            | 1.0                | 0.5                        | 125881.72          |\n",
    "| 2        | What is the five-year survival rate for patients using Keytruda for lung cancer? | 0.7513            | 1.0                | 0.5                        | 125881.72          |\n",
    "| 3        | What are the common side effects of Keytruda?                     | 0.9980            | 1.0                | 0.5                        | 125881.72          |\n",
    "| 4        | How effective is Keytruda in treating non-small cell lung cancer (NSCLC)? | 1.0               | 1.0                | 0.5                        | 125881.72          |\n",
    "| 5        | What is the response rate of melanoma patients treated with Keytruda? | 1.0               | 1.0                | 0.5                        | 125881.72          |\n",
    "\n"
   ]
  },
  {
   "cell_type": "markdown",
   "metadata": {},
   "source": [
    "## Evaluation Results:\n",
    "\n",
    "1. **Correctness**:\n",
    "\n",
    "    - **GPT-4o-mini**: Generally strong performance, except for Scenario 2, where the score dropped significantly. This suggests that GPT-4o-mini struggles with handling queries where little to no information is available (like the five-year survival rate).\n",
    "    - **Gemini**: Performed poorly on Scenario 1 (drug interactions), achieving a 0.0 correctness score. However, it performed better on other scenarios, particularly Scenario 4.\n",
    "    - **Claude**: Achieved high correctness scores across all scenarios, outperforming GPT-4o-mini and Gemini in scenarios with missing or limited data (Scenario 2).\n",
    "\n",
    "2. **Faithfulness**:\n",
    "\n",
    "    - All models achieved perfect scores (1.0) across all scenarios, indicating that each model is faithful to the retrieved documents, with no hallucination or invented information.\n",
    "\n",
    "3. **Contextual Relevancy**:\n",
    "\n",
    "    - All models exhibited consistently low Contextual Relevancy scores (0.5) across most scenarios. The exception was Gemini, which scored 1.0 in Scenario 1, demonstrating better context alignment in that specific scenario.\n",
    "\n",
    "4. **Response Time**:\n",
    "\n",
    "    - GPT-4o-mini was the fastest model, followed by Claude, with Gemini taking significantly longer.\n",
    "        - **GPT-4o-mini**: ~98 seconds per query.\n",
    "        - **Claude**: ~126 seconds per query.\n",
    "        - **Gemini**: ~363 seconds per query.\n",
    "\n",
    "5. **Cost**:\n",
    "\n",
    "    Considering the cost for each model:\n",
    "\n",
    "    - GPT-4o-mini is the most cost-effective at $0.15 per 1M input tokens and $0.6 per 1M output tokens.\n",
    "    - Claude is the most expensive option, with a base cost of $15 per 1M output tokens.\n",
    "    - Gemini is a middle-ground option with $0.30 per 1M output tokens."
   ]
  },
  {
   "cell_type": "markdown",
   "metadata": {},
   "source": [
    "## Optimization Oportunities\n",
    "\n",
    "1. **Foundation Model Selection**:\n",
    "    - **Problem**: Gemini scored **0.0** in Scenario 1 (drug interactions), while Claude and GPT-4o-mini achieved near-perfect correctness scores. This suggests that Gemini may not be as reliable for highly specific medical queries.\n",
    "    - **Optimization**: The **Claude** model can be prioritized for handling critical, high-stakes queries where correctness is crucial, while **GPT-4o-mini** can be used in cost-sensitive situations where speed is more important. Testing Gemini on less critical tasks could be an alternative to minimize costs.\n",
    "\n",
    "2. **Improve Contextual Relevancy**:\n",
    "    - **Problem**: Across most models, the **Contextual Relevancy Score** remains low at **0.5**. Even though the models performed well on correctness and faithfulness, they sometimes struggled to focus on the most relevant content from the retrieved documents.\n",
    "    - **Optimization**: Adjust the **retriever weighting scheme** in the RAG pipeline, giving more emphasis to content with higher relevance scores. Additionally, adjusting the model prompts to emphasize relevance could guide the model to generate answers more closely aligned with the specific context.\n",
    "\n",
    "3. **Handling Missing or Incomplete Data**:\n",
    "    - **Problem**: In Scenario 2 (five-year survival rate), both GPT-4o-mini and Gemini exhibited low correctness scores, showing that they struggled to handle queries for which there was limited or no detailed information available.\n",
    "    - **Optimization**: Implement a fallback mechanism that explicitly informs the user when no relevant data is available, rather than producing a potentially incorrect answer. This could be enhanced by creating a prompt template that explicitly asks the model to return \"No detailed information is available\" when applicable.\n",
    "\n",
    "\n",
    "4. Collaborating with Domain Experts\n",
    "\n",
    "    Given that the dataset is limited, the design of better test cases in collaboration with **domain experts** and **product researchers** is crucial. This would help ensure that test cases reflect the true challenges the system might face in production environments.\n",
    "\n",
    "    By involving medical experts and stakeholders:\n",
    "    - We can identify edge cases that might be missed in a limited dataset.\n",
    "    - The test cases can be expanded to cover more nuanced questions, such as drug interactions with rare medications, or the specific conditions under which treatments like Keytruda are effective.\n",
    "\n",
    "    Combining these insights with the **Optimization Opportunities** allows us to not only improve the system based on technical metrics (like Correctness and Relevancy) but also ensure that the model outputs are practically useful for end-users in real-world healthcare contexts."
   ]
  },
  {
   "cell_type": "markdown",
   "metadata": {},
   "source": [
    "# Section 6: (Not just) Expanding the RAG System to the Internet\n",
    "\n",
    "In this implementation, web search is not merely an expansion of the Retrieval-Augmented Generation (RAG) system but a fundamental feature essential for the effective application of the Corrective Retrieval Augmented Generation (CRAG) method. Integrating web search into our system is crucial for enhancing robustness, reliability, and ensuring that users receive accurate and comprehensive answers.\n",
    "\n",
    "- Expansion to Internet Retrieval:\n",
    "\n",
    "    - Integration of Web Search:\n",
    "        - Tool Used: Integrated the DuckDuckGoSearchResults tool to perform web searches.\n",
    "\n",
    "    - The internal dataset may not cover all possible queries. Accessing web resources allows the system to provide more comprehensive answers.\n",
    "\n",
    "- Techniques to Ensure Quality and Reliability:\n",
    "\n",
    "    - Knowledge Refiner:\n",
    "\n",
    "        - Extracts key information from web search results, focusing on relevant and reliable content.\n",
    "\n",
    "        - Ensures that only pertinent information is considered, reducing noise from irrelevant web content.\n",
    "\n",
    "    - Evaluator:\n",
    "\n",
    "        - Assesses the relevance of web-sourced documents using the LLM.\n",
    "\n",
    "        - Filters out low-quality or irrelevant results, maintaining the accuracy of the system.\n",
    "\n",
    "    - Source Attribution:\n",
    "\n",
    "        - Includes sources with links in the final answer.\n",
    "\n",
    "        - Allows users to verify information and enhances the credibility of the responses.\n",
    "\n",
    "Integrating web search into the RAG system is a fundamental aspect of effectively applying the CRAG method. Web search is not merely an optional expansion but a critical component that enhances the system's ability to provide accurate, reliable, and comprehensive answers. It allows the system to dynamically correct and augment its internal knowledge, ensuring that users receive the most relevant and up-to-date information, especially when the internal dataset is insufficient. This integration is essential for maintaining the robustness and reliability of the RAG system in real-world applications.\n",
    "\n"
   ]
  },
  {
   "cell_type": "code",
   "execution_count": 28,
   "metadata": {},
   "outputs": [
    {
     "name": "stderr",
     "output_type": "stream",
     "text": [
      "/tmp/ipykernel_2986795/96624778.py:1: LangChainDeprecationWarning: The method `BaseTool.__call__` was deprecated in langchain-core 0.1.47 and will be removed in 1.0. Use :meth:`~invoke` instead.\n",
      "  web_searcher.search(\"What are the Keytruda's side effects?\")\n"
     ]
    },
    {
     "data": {
      "text/plain": [
       "\"snippet: Keytruda is a biologic that belongs to the programmed cell death protein 1 (PD-1) inhibitor drug class. Read on to learn about potential common, mild, and serious side effects of Keytruda. For a ..., title: Keytruda side effects: What they are and how to manage them, link: https://www.medicalnewstoday.com/articles/drugs-keytruda-side-effects, snippet: These side effects can vary depending on whether Keytruda is used alone or with other cancer drugs. Examples of Keytruda's commonly reported side effects include: diarrhea. fatigue. loss of ..., title: Keytruda Side Effects: Common to Serious, Explained - Healthline, link: https://www.healthline.com/health/drugs/keytruda-side-effects, snippet: Check with your doctor or nurse immediately if any of the following side effects occur while taking pembrolizumab: More common. black, tarry stools. bladder pain. bloating or swelling of the face, arms, hands, lower legs, or feet. bloody or cloudy urine. blurred vision. body aches or pain., title: Keytruda Side Effects: Common, Severe, Long Term - Drugs.com, link: https://www.drugs.com/sfx/keytruda-side-effects.html, snippet: Keytruda side effects. The most common side effects of Keytruda when it is used alone are: feeling tired/fatigue. pain, including pain in the stomach, muscles, bones, or joints. rash or itching. diarrhea. fever. cough. decreased appetite., title: Keytruda: Uses, Dosage, Side Effects, Warnings - Drugs.com, link: https://www.drugs.com/keytruda.html\""
      ]
     },
     "execution_count": 28,
     "metadata": {},
     "output_type": "execute_result"
    }
   ],
   "source": [
    "web_searcher.search(\"What are the Keytruda's side effects?\")"
   ]
  },
  {
   "cell_type": "code",
   "execution_count": 29,
   "metadata": {},
   "outputs": [
    {
     "data": {
      "text/plain": [
       "(['- Keytruda is a biologic drug that belongs to the PD-1 inhibitor class.',\n",
       "  '- Side effects can vary based on whether Keytruda is used alone or with other cancer drugs.',\n",
       "  '- Commonly reported side effects include:',\n",
       "  '- Diarrhea',\n",
       "  '- Fatigue',\n",
       "  '- Loss of appetite',\n",
       "  '- Pain (stomach, muscles, bones, joints)',\n",
       "  '- Rash or itching',\n",
       "  '- Fever',\n",
       "  '- Cough',\n",
       "  '- Serious side effects to watch for include:',\n",
       "  '- Black, tarry stools',\n",
       "  '- Bladder pain',\n",
       "  '- Bloating or swelling of face, arms, hands, lower legs, or feet',\n",
       "  '- Bloody or cloudy urine',\n",
       "  '- Blurred vision',\n",
       "  '- Body aches or pain',\n",
       "  '- It is important to consult a doctor if serious side effects occur.'],\n",
       " [('Keytruda side effects: What they are and how to manage them',\n",
       "   'https://www.medicalnewstoday.com/articles/drugs-keytruda-side-effects'),\n",
       "  ('Keytruda Side Effects: Common to Serious, Explained - Healthline',\n",
       "   'https://www.healthline.com/health/drugs/keytruda-side-effects'),\n",
       "  ('Keytruda Side Effects: Common, Severe, Long Term - Drugs.com',\n",
       "   'https://www.drugs.com/sfx/keytruda-side-effects.html'),\n",
       "  ('Keytruda: Uses, Dosage, Side Effects, Warnings - Drugs.com',\n",
       "   'https://www.drugs.com/keytruda.html')])"
      ]
     },
     "execution_count": 29,
     "metadata": {},
     "output_type": "execute_result"
    }
   ],
   "source": [
    "web_searcher.search_and_refine(\"What are the Keytruda's side effects?\")"
   ]
  }
 ],
 "metadata": {
  "kernelspec": {
   "display_name": ".venv",
   "language": "python",
   "name": "python3"
  },
  "language_info": {
   "codemirror_mode": {
    "name": "ipython",
    "version": 3
   },
   "file_extension": ".py",
   "mimetype": "text/x-python",
   "name": "python",
   "nbconvert_exporter": "python",
   "pygments_lexer": "ipython3",
   "version": "3.10.12"
  }
 },
 "nbformat": 4,
 "nbformat_minor": 2
}
